{
 "cells": [
  {
   "cell_type": "markdown",
   "id": "lesbian-breakfast",
   "metadata": {
    "papermill": {
     "duration": 0.062704,
     "end_time": "2022-05-31T01:25:48.490242",
     "exception": false,
     "start_time": "2022-05-31T01:25:48.427538",
     "status": "completed"
    },
    "tags": []
   },
   "source": [
    "# Movies Recommender System"
   ]
  },
  {
   "cell_type": "markdown",
   "id": "representative-latest",
   "metadata": {
    "papermill": {
     "duration": 0.060301,
     "end_time": "2022-05-31T01:25:48.610930",
     "exception": false,
     "start_time": "2022-05-31T01:25:48.550629",
     "status": "completed"
    },
    "tags": []
   },
   "source": [
    "이 커널은 학습을 위해 다음 커널을 필사/번역한 내용입니다. [Code](https://www.kaggle.com/rounakbanik/movie-recommender-systems)"
   ]
  },
  {
   "cell_type": "markdown",
   "id": "induced-kinase",
   "metadata": {
    "papermill": {
     "duration": 0.062147,
     "end_time": "2022-05-31T01:25:48.734655",
     "exception": false,
     "start_time": "2022-05-31T01:25:48.672508",
     "status": "completed"
    },
    "tags": []
   },
   "source": [
    "이번 notebook에서 몇 개의 추천 시스템 알고리즘(content based, popularity based,\n",
    " 그리고 collaborative filtering)을 시행해보고, 우리의 최종 추천 시스템 도출을 위한 이 모델들의 ensemble을 개발해보겠다. \n",
    "\n",
    "우리는 2개의 MovieLens datasets을 가지고 있다.\n",
    "* The Full Dataset : 270,000 사용자가 45,000 영화에 매긴 26,000,000 평점과 750,000개의 tag application들이 있다. 1100개의 tag에 대해 1200만 개의 관련성 점수가 있는 tag genome 데이터를 포함한다.\n",
    "* The Small Dataset : 700명의 유저가 9000개의 영화를 100,000개의 평점과 1300개의 tag application한 것으로 구성했다. \n",
    "\n",
    "Small Dataset을 이용하여 간단한 Recommender system을 개발하겠다.\n"
   ]
  },
  {
   "cell_type": "code",
   "execution_count": 1,
   "id": "sorted-methodology",
   "metadata": {
    "_cell_guid": "b1076dfc-b9ad-4769-8c92-a6c4dae69d19",
    "_uuid": "8f2839f25d086af736a60e9eeb907d3b93b6e0e5",
    "execution": {
     "iopub.execute_input": "2022-05-31T01:25:48.859993Z",
     "iopub.status.busy": "2022-05-31T01:25:48.858852Z",
     "iopub.status.idle": "2022-05-31T01:25:50.498370Z",
     "shell.execute_reply": "2022-05-31T01:25:50.498975Z"
    },
    "papermill": {
     "duration": 1.704195,
     "end_time": "2022-05-31T01:25:50.499261",
     "exception": false,
     "start_time": "2022-05-31T01:25:48.795066",
     "status": "completed"
    },
    "tags": []
   },
   "outputs": [],
   "source": [
    "#notebook을 실행한 브라우저에서 바로 그림을 볼 수 있게 해줌\n",
    "%matplotlib inline \n",
    "import pandas as pd\n",
    "import numpy as np\n",
    "import matplotlib.pyplot as plt\n",
    "import seaborn as sns\n",
    "from scipy import stats\n",
    "from ast import literal_eval\n",
    "from sklearn.feature_extraction.text import TfidfVectorizer, CountVectorizer\n",
    "from sklearn.metrics.pairwise import linear_kernel, cosine_similarity\n",
    "from nltk.stem.snowball import SnowballStemmer\n",
    "from nltk.stem.wordnet import WordNetLemmatizer\n",
    "from nltk.corpus import wordnet\n",
    "from surprise import Reader, Dataset, SVD\n",
    "# evaluate가 cross_valiate로 대체 \n",
    "from surprise.model_selection import cross_validate\n",
    "\n",
    "\n",
    "import warnings; warnings.simplefilter('ignore')"
   ]
  },
  {
   "cell_type": "markdown",
   "id": "collective-shadow",
   "metadata": {
    "papermill": {
     "duration": 0.062721,
     "end_time": "2022-05-31T01:25:50.624835",
     "exception": false,
     "start_time": "2022-05-31T01:25:50.562114",
     "status": "completed"
    },
    "tags": []
   },
   "source": [
    "## Simple Recommender / 유명한 것들만 추천\n",
    "Simple Recommender는 모두에게 영화의 인기와 장르에 따른 일반적인 추천을 제공한다.  \n",
    "이것의 아이디어는 더 유명하고, 더 비평가들의 찬사를 받는 영화가 대중들이 좋아할 확률이 높다는 것에 기반을 두고 있습니다.  \n",
    "이 모델은 사용자에 따라 개인화된 추천을 제공하지는 않습니다.\n",
    "\n",
    "\n",
    "이 모델의 구현은 간단합니다.  \n",
    "우리가 해야할 일은 인기와 평점을 기반으로 정렬하고 상위 영화를 표시하는 것입니다. 추가로 특정 장르의 상위 영화를 얻기 위해 장르 인수를 전달할 수 있다."
   ]
  },
  {
   "cell_type": "markdown",
   "id": "mathematical-endorsement",
   "metadata": {
    "papermill": {
     "duration": 0.066057,
     "end_time": "2022-05-31T01:25:50.763793",
     "exception": false,
     "start_time": "2022-05-31T01:25:50.697736",
     "status": "completed"
    },
    "tags": []
   },
   "source": [
    "Simple Recommender의 흐름\n",
    "1. 전체 상위\n",
    "    1. 상위 항목을 위한 가중치 공식을 세움\n",
    "    2. 그것을 기반으로 상위 항목 골라냄\n",
    "\n",
    "2. 장르나, 감독에 해당하는 상위\n",
    "    1. 원하는 항목에 해당하는 정보들만 골라서 다시 작업\n",
    "        1. 우리가 공모전에서 이 작업을 수행할 것\n",
    "        \n",
    "        \n",
    "* 그렇다면 내가 나중에 해야할 것은?\n",
    "    * 어떠한 가중치로 추천할 것인가\n",
    "        * 조회수/공고일자, 상금, 이 전에 대회가 열린적이 있는가\n",
    "        * 어떤 항목들로 고를 것인가"
   ]
  },
  {
   "cell_type": "code",
   "execution_count": 2,
   "id": "false-sitting",
   "metadata": {
    "execution": {
     "iopub.execute_input": "2022-05-31T01:25:50.889089Z",
     "iopub.status.busy": "2022-05-31T01:25:50.888435Z",
     "iopub.status.idle": "2022-05-31T01:25:52.053552Z",
     "shell.execute_reply": "2022-05-31T01:25:52.052951Z"
    },
    "papermill": {
     "duration": 1.227718,
     "end_time": "2022-05-31T01:25:52.053697",
     "exception": false,
     "start_time": "2022-05-31T01:25:50.825979",
     "status": "completed"
    },
    "tags": []
   },
   "outputs": [
    {
     "data": {
      "text/html": [
       "<div>\n",
       "<style scoped>\n",
       "    .dataframe tbody tr th:only-of-type {\n",
       "        vertical-align: middle;\n",
       "    }\n",
       "\n",
       "    .dataframe tbody tr th {\n",
       "        vertical-align: top;\n",
       "    }\n",
       "\n",
       "    .dataframe thead th {\n",
       "        text-align: right;\n",
       "    }\n",
       "</style>\n",
       "<table border=\"1\" class=\"dataframe\">\n",
       "  <thead>\n",
       "    <tr style=\"text-align: right;\">\n",
       "      <th></th>\n",
       "      <th>adult</th>\n",
       "      <th>belongs_to_collection</th>\n",
       "      <th>budget</th>\n",
       "      <th>genres</th>\n",
       "      <th>homepage</th>\n",
       "      <th>id</th>\n",
       "      <th>imdb_id</th>\n",
       "      <th>original_language</th>\n",
       "      <th>original_title</th>\n",
       "      <th>overview</th>\n",
       "      <th>...</th>\n",
       "      <th>release_date</th>\n",
       "      <th>revenue</th>\n",
       "      <th>runtime</th>\n",
       "      <th>spoken_languages</th>\n",
       "      <th>status</th>\n",
       "      <th>tagline</th>\n",
       "      <th>title</th>\n",
       "      <th>video</th>\n",
       "      <th>vote_average</th>\n",
       "      <th>vote_count</th>\n",
       "    </tr>\n",
       "  </thead>\n",
       "  <tbody>\n",
       "    <tr>\n",
       "      <th>0</th>\n",
       "      <td>False</td>\n",
       "      <td>{'id': 10194, 'name': 'Toy Story Collection', ...</td>\n",
       "      <td>30000000</td>\n",
       "      <td>[{'id': 16, 'name': 'Animation'}, {'id': 35, '...</td>\n",
       "      <td>http://toystory.disney.com/toy-story</td>\n",
       "      <td>862</td>\n",
       "      <td>tt0114709</td>\n",
       "      <td>en</td>\n",
       "      <td>Toy Story</td>\n",
       "      <td>Led by Woody, Andy's toys live happily in his ...</td>\n",
       "      <td>...</td>\n",
       "      <td>1995-10-30</td>\n",
       "      <td>373554033.0</td>\n",
       "      <td>81.0</td>\n",
       "      <td>[{'iso_639_1': 'en', 'name': 'English'}]</td>\n",
       "      <td>Released</td>\n",
       "      <td>NaN</td>\n",
       "      <td>Toy Story</td>\n",
       "      <td>False</td>\n",
       "      <td>7.7</td>\n",
       "      <td>5415.0</td>\n",
       "    </tr>\n",
       "    <tr>\n",
       "      <th>1</th>\n",
       "      <td>False</td>\n",
       "      <td>NaN</td>\n",
       "      <td>65000000</td>\n",
       "      <td>[{'id': 12, 'name': 'Adventure'}, {'id': 14, '...</td>\n",
       "      <td>NaN</td>\n",
       "      <td>8844</td>\n",
       "      <td>tt0113497</td>\n",
       "      <td>en</td>\n",
       "      <td>Jumanji</td>\n",
       "      <td>When siblings Judy and Peter discover an encha...</td>\n",
       "      <td>...</td>\n",
       "      <td>1995-12-15</td>\n",
       "      <td>262797249.0</td>\n",
       "      <td>104.0</td>\n",
       "      <td>[{'iso_639_1': 'en', 'name': 'English'}, {'iso...</td>\n",
       "      <td>Released</td>\n",
       "      <td>Roll the dice and unleash the excitement!</td>\n",
       "      <td>Jumanji</td>\n",
       "      <td>False</td>\n",
       "      <td>6.9</td>\n",
       "      <td>2413.0</td>\n",
       "    </tr>\n",
       "    <tr>\n",
       "      <th>2</th>\n",
       "      <td>False</td>\n",
       "      <td>{'id': 119050, 'name': 'Grumpy Old Men Collect...</td>\n",
       "      <td>0</td>\n",
       "      <td>[{'id': 10749, 'name': 'Romance'}, {'id': 35, ...</td>\n",
       "      <td>NaN</td>\n",
       "      <td>15602</td>\n",
       "      <td>tt0113228</td>\n",
       "      <td>en</td>\n",
       "      <td>Grumpier Old Men</td>\n",
       "      <td>A family wedding reignites the ancient feud be...</td>\n",
       "      <td>...</td>\n",
       "      <td>1995-12-22</td>\n",
       "      <td>0.0</td>\n",
       "      <td>101.0</td>\n",
       "      <td>[{'iso_639_1': 'en', 'name': 'English'}]</td>\n",
       "      <td>Released</td>\n",
       "      <td>Still Yelling. Still Fighting. Still Ready for...</td>\n",
       "      <td>Grumpier Old Men</td>\n",
       "      <td>False</td>\n",
       "      <td>6.5</td>\n",
       "      <td>92.0</td>\n",
       "    </tr>\n",
       "    <tr>\n",
       "      <th>3</th>\n",
       "      <td>False</td>\n",
       "      <td>NaN</td>\n",
       "      <td>16000000</td>\n",
       "      <td>[{'id': 35, 'name': 'Comedy'}, {'id': 18, 'nam...</td>\n",
       "      <td>NaN</td>\n",
       "      <td>31357</td>\n",
       "      <td>tt0114885</td>\n",
       "      <td>en</td>\n",
       "      <td>Waiting to Exhale</td>\n",
       "      <td>Cheated on, mistreated and stepped on, the wom...</td>\n",
       "      <td>...</td>\n",
       "      <td>1995-12-22</td>\n",
       "      <td>81452156.0</td>\n",
       "      <td>127.0</td>\n",
       "      <td>[{'iso_639_1': 'en', 'name': 'English'}]</td>\n",
       "      <td>Released</td>\n",
       "      <td>Friends are the people who let you be yourself...</td>\n",
       "      <td>Waiting to Exhale</td>\n",
       "      <td>False</td>\n",
       "      <td>6.1</td>\n",
       "      <td>34.0</td>\n",
       "    </tr>\n",
       "    <tr>\n",
       "      <th>4</th>\n",
       "      <td>False</td>\n",
       "      <td>{'id': 96871, 'name': 'Father of the Bride Col...</td>\n",
       "      <td>0</td>\n",
       "      <td>[{'id': 35, 'name': 'Comedy'}]</td>\n",
       "      <td>NaN</td>\n",
       "      <td>11862</td>\n",
       "      <td>tt0113041</td>\n",
       "      <td>en</td>\n",
       "      <td>Father of the Bride Part II</td>\n",
       "      <td>Just when George Banks has recovered from his ...</td>\n",
       "      <td>...</td>\n",
       "      <td>1995-02-10</td>\n",
       "      <td>76578911.0</td>\n",
       "      <td>106.0</td>\n",
       "      <td>[{'iso_639_1': 'en', 'name': 'English'}]</td>\n",
       "      <td>Released</td>\n",
       "      <td>Just When His World Is Back To Normal... He's ...</td>\n",
       "      <td>Father of the Bride Part II</td>\n",
       "      <td>False</td>\n",
       "      <td>5.7</td>\n",
       "      <td>173.0</td>\n",
       "    </tr>\n",
       "  </tbody>\n",
       "</table>\n",
       "<p>5 rows × 24 columns</p>\n",
       "</div>"
      ],
      "text/plain": [
       "   adult                              belongs_to_collection    budget  \\\n",
       "0  False  {'id': 10194, 'name': 'Toy Story Collection', ...  30000000   \n",
       "1  False                                                NaN  65000000   \n",
       "2  False  {'id': 119050, 'name': 'Grumpy Old Men Collect...         0   \n",
       "3  False                                                NaN  16000000   \n",
       "4  False  {'id': 96871, 'name': 'Father of the Bride Col...         0   \n",
       "\n",
       "                                              genres  \\\n",
       "0  [{'id': 16, 'name': 'Animation'}, {'id': 35, '...   \n",
       "1  [{'id': 12, 'name': 'Adventure'}, {'id': 14, '...   \n",
       "2  [{'id': 10749, 'name': 'Romance'}, {'id': 35, ...   \n",
       "3  [{'id': 35, 'name': 'Comedy'}, {'id': 18, 'nam...   \n",
       "4                     [{'id': 35, 'name': 'Comedy'}]   \n",
       "\n",
       "                               homepage     id    imdb_id original_language  \\\n",
       "0  http://toystory.disney.com/toy-story    862  tt0114709                en   \n",
       "1                                   NaN   8844  tt0113497                en   \n",
       "2                                   NaN  15602  tt0113228                en   \n",
       "3                                   NaN  31357  tt0114885                en   \n",
       "4                                   NaN  11862  tt0113041                en   \n",
       "\n",
       "                original_title  \\\n",
       "0                    Toy Story   \n",
       "1                      Jumanji   \n",
       "2             Grumpier Old Men   \n",
       "3            Waiting to Exhale   \n",
       "4  Father of the Bride Part II   \n",
       "\n",
       "                                            overview  ... release_date  \\\n",
       "0  Led by Woody, Andy's toys live happily in his ...  ...   1995-10-30   \n",
       "1  When siblings Judy and Peter discover an encha...  ...   1995-12-15   \n",
       "2  A family wedding reignites the ancient feud be...  ...   1995-12-22   \n",
       "3  Cheated on, mistreated and stepped on, the wom...  ...   1995-12-22   \n",
       "4  Just when George Banks has recovered from his ...  ...   1995-02-10   \n",
       "\n",
       "       revenue runtime                                   spoken_languages  \\\n",
       "0  373554033.0    81.0           [{'iso_639_1': 'en', 'name': 'English'}]   \n",
       "1  262797249.0   104.0  [{'iso_639_1': 'en', 'name': 'English'}, {'iso...   \n",
       "2          0.0   101.0           [{'iso_639_1': 'en', 'name': 'English'}]   \n",
       "3   81452156.0   127.0           [{'iso_639_1': 'en', 'name': 'English'}]   \n",
       "4   76578911.0   106.0           [{'iso_639_1': 'en', 'name': 'English'}]   \n",
       "\n",
       "     status                                            tagline  \\\n",
       "0  Released                                                NaN   \n",
       "1  Released          Roll the dice and unleash the excitement!   \n",
       "2  Released  Still Yelling. Still Fighting. Still Ready for...   \n",
       "3  Released  Friends are the people who let you be yourself...   \n",
       "4  Released  Just When His World Is Back To Normal... He's ...   \n",
       "\n",
       "                         title  video vote_average vote_count  \n",
       "0                    Toy Story  False          7.7     5415.0  \n",
       "1                      Jumanji  False          6.9     2413.0  \n",
       "2             Grumpier Old Men  False          6.5       92.0  \n",
       "3            Waiting to Exhale  False          6.1       34.0  \n",
       "4  Father of the Bride Part II  False          5.7      173.0  \n",
       "\n",
       "[5 rows x 24 columns]"
      ]
     },
     "execution_count": 2,
     "metadata": {},
     "output_type": "execute_result"
    }
   ],
   "source": [
    "# 데이터 불러오기\n",
    "md = pd.read_csv('../input/the-movies-dataset/movies_metadata.csv')\n",
    "md.head()"
   ]
  },
  {
   "cell_type": "code",
   "execution_count": 3,
   "id": "italic-insertion",
   "metadata": {
    "execution": {
     "iopub.execute_input": "2022-05-31T01:25:52.208507Z",
     "iopub.status.busy": "2022-05-31T01:25:52.207796Z",
     "iopub.status.idle": "2022-05-31T01:25:52.212365Z",
     "shell.execute_reply": "2022-05-31T01:25:52.211849Z"
    },
    "papermill": {
     "duration": 0.08881,
     "end_time": "2022-05-31T01:25:52.212521",
     "exception": false,
     "start_time": "2022-05-31T01:25:52.123711",
     "status": "completed"
    },
    "tags": []
   },
   "outputs": [
    {
     "data": {
      "text/plain": [
       "0"
      ]
     },
     "execution_count": 3,
     "metadata": {},
     "output_type": "execute_result"
    }
   ],
   "source": [
    "# 결측치 확인\n",
    "md['genres'].isnull().sum()"
   ]
  },
  {
   "cell_type": "code",
   "execution_count": 4,
   "id": "laughing-express",
   "metadata": {
    "execution": {
     "iopub.execute_input": "2022-05-31T01:25:52.343978Z",
     "iopub.status.busy": "2022-05-31T01:25:52.343303Z",
     "iopub.status.idle": "2022-05-31T01:25:52.347875Z",
     "shell.execute_reply": "2022-05-31T01:25:52.347219Z"
    },
    "papermill": {
     "duration": 0.072511,
     "end_time": "2022-05-31T01:25:52.348015",
     "exception": false,
     "start_time": "2022-05-31T01:25:52.275504",
     "status": "completed"
    },
    "tags": []
   },
   "outputs": [
    {
     "data": {
      "text/plain": [
       "(str,\n",
       " list,\n",
       " \"[{'id': 16, 'name': 'Animation'}, {'id': 35, 'name': 'Comedy'}, {'id': 10751, 'name': 'Family'}]\")"
      ]
     },
     "execution_count": 4,
     "metadata": {},
     "output_type": "execute_result"
    }
   ],
   "source": [
    "# literal_eval의 기능 설명\n",
    "type(md['genres'][0]), type(literal_eval(md['genres'][0])), md['genres'][0]"
   ]
  },
  {
   "cell_type": "markdown",
   "id": "offshore-alert",
   "metadata": {
    "papermill": {
     "duration": 0.063039,
     "end_time": "2022-05-31T01:25:52.473611",
     "exception": false,
     "start_time": "2022-05-31T01:25:52.410572",
     "status": "completed"
    },
    "tags": []
   },
   "source": [
    "https://stackoverflow.com/questions/60042516/how-do-i-figure-out-what-this-code-is-doing"
   ]
  },
  {
   "cell_type": "code",
   "execution_count": 5,
   "id": "attached-owner",
   "metadata": {
    "execution": {
     "iopub.execute_input": "2022-05-31T01:25:52.608491Z",
     "iopub.status.busy": "2022-05-31T01:25:52.607833Z",
     "iopub.status.idle": "2022-05-31T01:25:54.221071Z",
     "shell.execute_reply": "2022-05-31T01:25:54.220343Z"
    },
    "papermill": {
     "duration": 1.685169,
     "end_time": "2022-05-31T01:25:54.221215",
     "exception": false,
     "start_time": "2022-05-31T01:25:52.536046",
     "status": "completed"
    },
    "tags": []
   },
   "outputs": [],
   "source": [
    "# literal_eval : type 변환 시켜주는 것, string -> dict, eval은 두려움\n",
    "# isinstance(x, list) : x가 list인지 확인해봅니다.\n",
    "md['genres'] = md['genres'].fillna('[]').apply(literal_eval).apply(lambda x : [i['name'] for i in x] if isinstance(x, list) else [])"
   ]
  },
  {
   "cell_type": "markdown",
   "id": "elder-fisher",
   "metadata": {
    "papermill": {
     "duration": 0.061977,
     "end_time": "2022-05-31T01:25:54.346377",
     "exception": false,
     "start_time": "2022-05-31T01:25:54.284400",
     "status": "completed"
    },
    "tags": []
   },
   "source": [
    "TMDB Ratings를 사용하여 Top Movies Chart를 만들었다.  \n",
    "IMDB의 가중치 공식을 사용하여 우리의 차트를 구성했다. 수학적으로, 다음과 같이 표현된다:  \n",
    "Weight Rating(WR) = $(\\frac{v}{v+m}\\cdot{R})+(\\frac{m}{v+m}\\cdot{C})$,\n",
    "* v : 영화의 vote 수\n",
    "* m : chart에 등록되기 위한 최소한의 vote 수\n",
    "* R : 영화 평점의 평균\n",
    "* C : 전체 report에 대한 평균 vote 수\n",
    "\n",
    "다음 차례는 chart에 등록되기 위한 최소한의 vote 수인 m에 적절한 값을 결정하는 것이다. 우리는 95% 백분위 수를 우리의 컷오프로 사용합니다. 즉, 영화가 차트에 포함되려면 목록에 있는 영화의 95% 이상보다 더 많은 표가 있어야합니다.\n",
    "\n",
    "전체 Top 250 차트를 작성하고 특성 장르에 대한 차트를 작성하는 기능을 정의합니다."
   ]
  },
  {
   "cell_type": "markdown",
   "id": "naval-promotion",
   "metadata": {
    "papermill": {
     "duration": 0.062685,
     "end_time": "2022-05-31T01:25:54.471513",
     "exception": false,
     "start_time": "2022-05-31T01:25:54.408828",
     "status": "completed"
    },
    "tags": []
   },
   "source": [
    "https://math.stackexchange.com/questions/169032/understanding-the-imdb-weighted-rating-function-for-usage-on-my-own-website"
   ]
  },
  {
   "cell_type": "code",
   "execution_count": 6,
   "id": "dental-place",
   "metadata": {
    "execution": {
     "iopub.execute_input": "2022-05-31T01:25:54.602521Z",
     "iopub.status.busy": "2022-05-31T01:25:54.600318Z",
     "iopub.status.idle": "2022-05-31T01:25:54.605198Z",
     "shell.execute_reply": "2022-05-31T01:25:54.605677Z"
    },
    "papermill": {
     "duration": 0.072258,
     "end_time": "2022-05-31T01:25:54.605857",
     "exception": false,
     "start_time": "2022-05-31T01:25:54.533599",
     "status": "completed"
    },
    "tags": []
   },
   "outputs": [
    {
     "data": {
      "text/plain": [
       "(45466, 24)"
      ]
     },
     "execution_count": 6,
     "metadata": {},
     "output_type": "execute_result"
    }
   ],
   "source": [
    "md.shape"
   ]
  },
  {
   "cell_type": "code",
   "execution_count": 7,
   "id": "extensive-italian",
   "metadata": {
    "execution": {
     "iopub.execute_input": "2022-05-31T01:25:54.737371Z",
     "iopub.status.busy": "2022-05-31T01:25:54.736736Z",
     "iopub.status.idle": "2022-05-31T01:25:54.780775Z",
     "shell.execute_reply": "2022-05-31T01:25:54.781320Z"
    },
    "papermill": {
     "duration": 0.110395,
     "end_time": "2022-05-31T01:25:54.781511",
     "exception": false,
     "start_time": "2022-05-31T01:25:54.671116",
     "status": "completed"
    },
    "tags": []
   },
   "outputs": [
    {
     "data": {
      "text/plain": [
       "5.244896612406511"
      ]
     },
     "execution_count": 7,
     "metadata": {},
     "output_type": "execute_result"
    }
   ],
   "source": [
    "vote_counts = md[md['vote_count'].notnull()]['vote_count'].astype('int')\n",
    "vote_averages = md[md['vote_average'].notnull()]['vote_average'].astype('int')\n",
    "C = vote_averages.mean()\n",
    "C # 평균적으로 5.2표씩 받음"
   ]
  },
  {
   "cell_type": "code",
   "execution_count": 8,
   "id": "fitted-monroe",
   "metadata": {
    "execution": {
     "iopub.execute_input": "2022-05-31T01:25:54.911495Z",
     "iopub.status.busy": "2022-05-31T01:25:54.910795Z",
     "iopub.status.idle": "2022-05-31T01:25:54.919129Z",
     "shell.execute_reply": "2022-05-31T01:25:54.919771Z"
    },
    "papermill": {
     "duration": 0.075172,
     "end_time": "2022-05-31T01:25:54.919950",
     "exception": false,
     "start_time": "2022-05-31T01:25:54.844778",
     "status": "completed"
    },
    "tags": []
   },
   "outputs": [
    {
     "data": {
      "text/plain": [
       "434.0"
      ]
     },
     "execution_count": 8,
     "metadata": {},
     "output_type": "execute_result"
    }
   ],
   "source": [
    "m = vote_counts.quantile(0.95)\n",
    "m"
   ]
  },
  {
   "cell_type": "code",
   "execution_count": 9,
   "id": "rapid-newman",
   "metadata": {
    "execution": {
     "iopub.execute_input": "2022-05-31T01:25:55.051766Z",
     "iopub.status.busy": "2022-05-31T01:25:55.051138Z",
     "iopub.status.idle": "2022-05-31T01:25:55.478790Z",
     "shell.execute_reply": "2022-05-31T01:25:55.479308Z"
    },
    "papermill": {
     "duration": 0.49539,
     "end_time": "2022-05-31T01:25:55.479509",
     "exception": false,
     "start_time": "2022-05-31T01:25:54.984119",
     "status": "completed"
    },
    "tags": []
   },
   "outputs": [],
   "source": [
    "# errors='coerce' : 문자열이 속해있어서 오류가 날 경우 강제로 NaT으로 출력\n",
    "md['year'] = pd.to_datetime(md['release_date'], errors='coerce').apply(lambda x: str(x).split('-')[0] if not(pd.isnull(x)) else np.nan)"
   ]
  },
  {
   "cell_type": "code",
   "execution_count": 10,
   "id": "executive-scenario",
   "metadata": {
    "execution": {
     "iopub.execute_input": "2022-05-31T01:25:55.611485Z",
     "iopub.status.busy": "2022-05-31T01:25:55.610885Z",
     "iopub.status.idle": "2022-05-31T01:25:55.679214Z",
     "shell.execute_reply": "2022-05-31T01:25:55.678677Z"
    },
    "papermill": {
     "duration": 0.136052,
     "end_time": "2022-05-31T01:25:55.679366",
     "exception": false,
     "start_time": "2022-05-31T01:25:55.543314",
     "status": "completed"
    },
    "tags": []
   },
   "outputs": [
    {
     "data": {
      "text/plain": [
       "(2274, 6)"
      ]
     },
     "execution_count": 10,
     "metadata": {},
     "output_type": "execute_result"
    }
   ],
   "source": [
    "qualified = md[(md['vote_count'] >= m) & (md['vote_count'].notnull()) & (md['vote_average'].notnull())][['title', 'year', 'vote_count', 'vote_average', 'popularity', 'genres']]\n",
    "qualified['vote_count'] = qualified['vote_count'].astype('int')\n",
    "qualified['vote_average'] = qualified['vote_average'].astype('int')\n",
    "qualified.shape"
   ]
  },
  {
   "cell_type": "markdown",
   "id": "legal-memory",
   "metadata": {
    "papermill": {
     "duration": 0.063433,
     "end_time": "2022-05-31T01:25:55.807527",
     "exception": false,
     "start_time": "2022-05-31T01:25:55.744094",
     "status": "completed"
    },
    "tags": []
   },
   "source": [
    "차트에 선정 되려면 영화는 TMDB에서 최소 434표를 받아야 한다.  \n",
    "또한 TMDB에 있는 영화의 평균 등급은 5.244점이다.  \n",
    "2274개의 영화가 차트에 포함될 자격이 있다."
   ]
  },
  {
   "cell_type": "code",
   "execution_count": 11,
   "id": "played-excuse",
   "metadata": {
    "execution": {
     "iopub.execute_input": "2022-05-31T01:25:55.937921Z",
     "iopub.status.busy": "2022-05-31T01:25:55.937309Z",
     "iopub.status.idle": "2022-05-31T01:25:55.941447Z",
     "shell.execute_reply": "2022-05-31T01:25:55.942030Z"
    },
    "papermill": {
     "duration": 0.071013,
     "end_time": "2022-05-31T01:25:55.942181",
     "exception": false,
     "start_time": "2022-05-31T01:25:55.871168",
     "status": "completed"
    },
    "tags": []
   },
   "outputs": [],
   "source": [
    "def weighted_rating(x) :\n",
    "    v = x['vote_count']\n",
    "    R = x['vote_average']\n",
    "    return (v/(v+m) * R) + (m/(m+v) * C)"
   ]
  },
  {
   "cell_type": "code",
   "execution_count": 12,
   "id": "reflected-thumb",
   "metadata": {
    "execution": {
     "iopub.execute_input": "2022-05-31T01:25:56.076849Z",
     "iopub.status.busy": "2022-05-31T01:25:56.076211Z",
     "iopub.status.idle": "2022-05-31T01:25:56.133183Z",
     "shell.execute_reply": "2022-05-31T01:25:56.132609Z"
    },
    "papermill": {
     "duration": 0.126165,
     "end_time": "2022-05-31T01:25:56.133330",
     "exception": false,
     "start_time": "2022-05-31T01:25:56.007165",
     "status": "completed"
    },
    "tags": []
   },
   "outputs": [],
   "source": [
    "qualified['wr'] = qualified.apply(weighted_rating, axis = 1)"
   ]
  },
  {
   "cell_type": "code",
   "execution_count": 13,
   "id": "equipped-certificate",
   "metadata": {
    "execution": {
     "iopub.execute_input": "2022-05-31T01:25:56.268083Z",
     "iopub.status.busy": "2022-05-31T01:25:56.267370Z",
     "iopub.status.idle": "2022-05-31T01:25:56.271083Z",
     "shell.execute_reply": "2022-05-31T01:25:56.271690Z"
    },
    "papermill": {
     "duration": 0.073486,
     "end_time": "2022-05-31T01:25:56.271866",
     "exception": false,
     "start_time": "2022-05-31T01:25:56.198380",
     "status": "completed"
    },
    "tags": []
   },
   "outputs": [],
   "source": [
    "# wr기준으로 상위 250개의 영화만 골라냄\n",
    "qualified = qualified.sort_values('wr', ascending = False).head(250)"
   ]
  },
  {
   "cell_type": "markdown",
   "id": "congressional-candidate",
   "metadata": {
    "papermill": {
     "duration": 0.064471,
     "end_time": "2022-05-31T01:25:56.401477",
     "exception": false,
     "start_time": "2022-05-31T01:25:56.337006",
     "status": "completed"
    },
    "tags": []
   },
   "source": [
    "**Top Movies**"
   ]
  },
  {
   "cell_type": "code",
   "execution_count": 14,
   "id": "floating-march",
   "metadata": {
    "execution": {
     "iopub.execute_input": "2022-05-31T01:25:56.537211Z",
     "iopub.status.busy": "2022-05-31T01:25:56.536560Z",
     "iopub.status.idle": "2022-05-31T01:25:56.557804Z",
     "shell.execute_reply": "2022-05-31T01:25:56.557302Z"
    },
    "papermill": {
     "duration": 0.091321,
     "end_time": "2022-05-31T01:25:56.557943",
     "exception": false,
     "start_time": "2022-05-31T01:25:56.466622",
     "status": "completed"
    },
    "tags": []
   },
   "outputs": [
    {
     "data": {
      "text/html": [
       "<div>\n",
       "<style scoped>\n",
       "    .dataframe tbody tr th:only-of-type {\n",
       "        vertical-align: middle;\n",
       "    }\n",
       "\n",
       "    .dataframe tbody tr th {\n",
       "        vertical-align: top;\n",
       "    }\n",
       "\n",
       "    .dataframe thead th {\n",
       "        text-align: right;\n",
       "    }\n",
       "</style>\n",
       "<table border=\"1\" class=\"dataframe\">\n",
       "  <thead>\n",
       "    <tr style=\"text-align: right;\">\n",
       "      <th></th>\n",
       "      <th>title</th>\n",
       "      <th>year</th>\n",
       "      <th>vote_count</th>\n",
       "      <th>vote_average</th>\n",
       "      <th>popularity</th>\n",
       "      <th>genres</th>\n",
       "      <th>wr</th>\n",
       "    </tr>\n",
       "  </thead>\n",
       "  <tbody>\n",
       "    <tr>\n",
       "      <th>15480</th>\n",
       "      <td>Inception</td>\n",
       "      <td>2010</td>\n",
       "      <td>14075</td>\n",
       "      <td>8</td>\n",
       "      <td>29.108149</td>\n",
       "      <td>[Action, Thriller, Science Fiction, Mystery, A...</td>\n",
       "      <td>7.917588</td>\n",
       "    </tr>\n",
       "    <tr>\n",
       "      <th>12481</th>\n",
       "      <td>The Dark Knight</td>\n",
       "      <td>2008</td>\n",
       "      <td>12269</td>\n",
       "      <td>8</td>\n",
       "      <td>123.167259</td>\n",
       "      <td>[Drama, Action, Crime, Thriller]</td>\n",
       "      <td>7.905871</td>\n",
       "    </tr>\n",
       "    <tr>\n",
       "      <th>22879</th>\n",
       "      <td>Interstellar</td>\n",
       "      <td>2014</td>\n",
       "      <td>11187</td>\n",
       "      <td>8</td>\n",
       "      <td>32.213481</td>\n",
       "      <td>[Adventure, Drama, Science Fiction]</td>\n",
       "      <td>7.897107</td>\n",
       "    </tr>\n",
       "    <tr>\n",
       "      <th>2843</th>\n",
       "      <td>Fight Club</td>\n",
       "      <td>1999</td>\n",
       "      <td>9678</td>\n",
       "      <td>8</td>\n",
       "      <td>63.869599</td>\n",
       "      <td>[Drama]</td>\n",
       "      <td>7.881753</td>\n",
       "    </tr>\n",
       "    <tr>\n",
       "      <th>4863</th>\n",
       "      <td>The Lord of the Rings: The Fellowship of the Ring</td>\n",
       "      <td>2001</td>\n",
       "      <td>8892</td>\n",
       "      <td>8</td>\n",
       "      <td>32.070725</td>\n",
       "      <td>[Adventure, Fantasy, Action]</td>\n",
       "      <td>7.871787</td>\n",
       "    </tr>\n",
       "    <tr>\n",
       "      <th>292</th>\n",
       "      <td>Pulp Fiction</td>\n",
       "      <td>1994</td>\n",
       "      <td>8670</td>\n",
       "      <td>8</td>\n",
       "      <td>140.950236</td>\n",
       "      <td>[Thriller, Crime]</td>\n",
       "      <td>7.868660</td>\n",
       "    </tr>\n",
       "    <tr>\n",
       "      <th>314</th>\n",
       "      <td>The Shawshank Redemption</td>\n",
       "      <td>1994</td>\n",
       "      <td>8358</td>\n",
       "      <td>8</td>\n",
       "      <td>51.645403</td>\n",
       "      <td>[Drama, Crime]</td>\n",
       "      <td>7.864000</td>\n",
       "    </tr>\n",
       "    <tr>\n",
       "      <th>7000</th>\n",
       "      <td>The Lord of the Rings: The Return of the King</td>\n",
       "      <td>2003</td>\n",
       "      <td>8226</td>\n",
       "      <td>8</td>\n",
       "      <td>29.324358</td>\n",
       "      <td>[Adventure, Fantasy, Action]</td>\n",
       "      <td>7.861927</td>\n",
       "    </tr>\n",
       "    <tr>\n",
       "      <th>351</th>\n",
       "      <td>Forrest Gump</td>\n",
       "      <td>1994</td>\n",
       "      <td>8147</td>\n",
       "      <td>8</td>\n",
       "      <td>48.307194</td>\n",
       "      <td>[Comedy, Drama, Romance]</td>\n",
       "      <td>7.860656</td>\n",
       "    </tr>\n",
       "    <tr>\n",
       "      <th>5814</th>\n",
       "      <td>The Lord of the Rings: The Two Towers</td>\n",
       "      <td>2002</td>\n",
       "      <td>7641</td>\n",
       "      <td>8</td>\n",
       "      <td>29.423537</td>\n",
       "      <td>[Adventure, Fantasy, Action]</td>\n",
       "      <td>7.851924</td>\n",
       "    </tr>\n",
       "    <tr>\n",
       "      <th>256</th>\n",
       "      <td>Star Wars</td>\n",
       "      <td>1977</td>\n",
       "      <td>6778</td>\n",
       "      <td>8</td>\n",
       "      <td>42.149697</td>\n",
       "      <td>[Adventure, Action, Science Fiction]</td>\n",
       "      <td>7.834205</td>\n",
       "    </tr>\n",
       "    <tr>\n",
       "      <th>1225</th>\n",
       "      <td>Back to the Future</td>\n",
       "      <td>1985</td>\n",
       "      <td>6239</td>\n",
       "      <td>8</td>\n",
       "      <td>25.778509</td>\n",
       "      <td>[Adventure, Comedy, Science Fiction, Family]</td>\n",
       "      <td>7.820813</td>\n",
       "    </tr>\n",
       "    <tr>\n",
       "      <th>834</th>\n",
       "      <td>The Godfather</td>\n",
       "      <td>1972</td>\n",
       "      <td>6024</td>\n",
       "      <td>8</td>\n",
       "      <td>41.109264</td>\n",
       "      <td>[Drama, Crime]</td>\n",
       "      <td>7.814847</td>\n",
       "    </tr>\n",
       "    <tr>\n",
       "      <th>1154</th>\n",
       "      <td>The Empire Strikes Back</td>\n",
       "      <td>1980</td>\n",
       "      <td>5998</td>\n",
       "      <td>8</td>\n",
       "      <td>19.470959</td>\n",
       "      <td>[Adventure, Action, Science Fiction]</td>\n",
       "      <td>7.814099</td>\n",
       "    </tr>\n",
       "    <tr>\n",
       "      <th>46</th>\n",
       "      <td>Se7en</td>\n",
       "      <td>1995</td>\n",
       "      <td>5915</td>\n",
       "      <td>8</td>\n",
       "      <td>18.45743</td>\n",
       "      <td>[Crime, Mystery, Thriller]</td>\n",
       "      <td>7.811669</td>\n",
       "    </tr>\n",
       "  </tbody>\n",
       "</table>\n",
       "</div>"
      ],
      "text/plain": [
       "                                                   title  year  vote_count  \\\n",
       "15480                                          Inception  2010       14075   \n",
       "12481                                    The Dark Knight  2008       12269   \n",
       "22879                                       Interstellar  2014       11187   \n",
       "2843                                          Fight Club  1999        9678   \n",
       "4863   The Lord of the Rings: The Fellowship of the Ring  2001        8892   \n",
       "292                                         Pulp Fiction  1994        8670   \n",
       "314                             The Shawshank Redemption  1994        8358   \n",
       "7000       The Lord of the Rings: The Return of the King  2003        8226   \n",
       "351                                         Forrest Gump  1994        8147   \n",
       "5814               The Lord of the Rings: The Two Towers  2002        7641   \n",
       "256                                            Star Wars  1977        6778   \n",
       "1225                                  Back to the Future  1985        6239   \n",
       "834                                        The Godfather  1972        6024   \n",
       "1154                             The Empire Strikes Back  1980        5998   \n",
       "46                                                 Se7en  1995        5915   \n",
       "\n",
       "       vote_average  popularity  \\\n",
       "15480             8   29.108149   \n",
       "12481             8  123.167259   \n",
       "22879             8   32.213481   \n",
       "2843              8   63.869599   \n",
       "4863              8   32.070725   \n",
       "292               8  140.950236   \n",
       "314               8   51.645403   \n",
       "7000              8   29.324358   \n",
       "351               8   48.307194   \n",
       "5814              8   29.423537   \n",
       "256               8   42.149697   \n",
       "1225              8   25.778509   \n",
       "834               8   41.109264   \n",
       "1154              8   19.470959   \n",
       "46                8    18.45743   \n",
       "\n",
       "                                                  genres        wr  \n",
       "15480  [Action, Thriller, Science Fiction, Mystery, A...  7.917588  \n",
       "12481                   [Drama, Action, Crime, Thriller]  7.905871  \n",
       "22879                [Adventure, Drama, Science Fiction]  7.897107  \n",
       "2843                                             [Drama]  7.881753  \n",
       "4863                        [Adventure, Fantasy, Action]  7.871787  \n",
       "292                                    [Thriller, Crime]  7.868660  \n",
       "314                                       [Drama, Crime]  7.864000  \n",
       "7000                        [Adventure, Fantasy, Action]  7.861927  \n",
       "351                             [Comedy, Drama, Romance]  7.860656  \n",
       "5814                        [Adventure, Fantasy, Action]  7.851924  \n",
       "256                 [Adventure, Action, Science Fiction]  7.834205  \n",
       "1225        [Adventure, Comedy, Science Fiction, Family]  7.820813  \n",
       "834                                       [Drama, Crime]  7.814847  \n",
       "1154                [Adventure, Action, Science Fiction]  7.814099  \n",
       "46                            [Crime, Mystery, Thriller]  7.811669  "
      ]
     },
     "execution_count": 14,
     "metadata": {},
     "output_type": "execute_result"
    }
   ],
   "source": [
    "qualified.head(15)"
   ]
  },
  {
   "cell_type": "markdown",
   "id": "hispanic-hampshire",
   "metadata": {
    "papermill": {
     "duration": 0.064975,
     "end_time": "2022-05-31T01:25:56.688599",
     "exception": false,
     "start_time": "2022-05-31T01:25:56.623624",
     "status": "completed"
    },
    "tags": []
   },
   "source": []
  },
  {
   "cell_type": "markdown",
   "id": "acoustic-toilet",
   "metadata": {
    "papermill": {
     "duration": 0.065076,
     "end_time": "2022-05-31T01:25:56.819235",
     "exception": false,
     "start_time": "2022-05-31T01:25:56.754159",
     "status": "completed"
    },
    "tags": []
   },
   "source": [
    "우리는 크리스토퍼 놀란의 인셉션, 다크나이트, 인터스텔라 총 3개의 작품이 매우 상위권에 위치함을 알 수 있다. 차트는 TMDB의 유저들이 특별한 장르와 감독에게 강한 편향을 가짐을 나타낸다.  \n",
    "이제 우리는 특별한 장르를 위한 함수를 구축해볼 것이다. 이것을 위해, 백분위 수 95% 대신 85%로 조건을 완화해보자."
   ]
  },
  {
   "cell_type": "code",
   "execution_count": 15,
   "id": "described-president",
   "metadata": {
    "execution": {
     "iopub.execute_input": "2022-05-31T01:25:56.963583Z",
     "iopub.status.busy": "2022-05-31T01:25:56.962923Z",
     "iopub.status.idle": "2022-05-31T01:26:16.403653Z",
     "shell.execute_reply": "2022-05-31T01:26:16.403096Z"
    },
    "papermill": {
     "duration": 19.518644,
     "end_time": "2022-05-31T01:26:16.403836",
     "exception": false,
     "start_time": "2022-05-31T01:25:56.885192",
     "status": "completed"
    },
    "tags": []
   },
   "outputs": [],
   "source": [
    "# stack : 들어온 것 부터 쌓음\n",
    "s = md.apply(lambda x: pd.Series(x['genres']), axis=1).stack().reset_index(level=1, drop=True)\n",
    "s.name = 'genre'\n",
    "gen_md = md.drop('genres', axis=1).join(s)"
   ]
  },
  {
   "cell_type": "code",
   "execution_count": 16,
   "id": "specific-sucking",
   "metadata": {
    "execution": {
     "iopub.execute_input": "2022-05-31T01:26:16.557032Z",
     "iopub.status.busy": "2022-05-31T01:26:16.555477Z",
     "iopub.status.idle": "2022-05-31T01:26:16.642858Z",
     "shell.execute_reply": "2022-05-31T01:26:16.642293Z"
    },
    "papermill": {
     "duration": 0.172432,
     "end_time": "2022-05-31T01:26:16.643003",
     "exception": false,
     "start_time": "2022-05-31T01:26:16.470571",
     "status": "completed"
    },
    "tags": []
   },
   "outputs": [],
   "source": [
    "df = gen_md[gen_md['genre'] == 'Comedy']"
   ]
  },
  {
   "cell_type": "code",
   "execution_count": 17,
   "id": "chicken-circular",
   "metadata": {
    "execution": {
     "iopub.execute_input": "2022-05-31T01:26:16.782824Z",
     "iopub.status.busy": "2022-05-31T01:26:16.776026Z",
     "iopub.status.idle": "2022-05-31T01:26:16.785668Z",
     "shell.execute_reply": "2022-05-31T01:26:16.785145Z"
    },
    "papermill": {
     "duration": 0.077929,
     "end_time": "2022-05-31T01:26:16.785812",
     "exception": false,
     "start_time": "2022-05-31T01:26:16.707883",
     "status": "completed"
    },
    "tags": []
   },
   "outputs": [],
   "source": [
    "def build_chart(genre, percentile=0.85):\n",
    "    df = gen_md[gen_md['genre'] == genre]\n",
    "\n",
    "    vote_counts = df[df['vote_count'].notnull()]['vote_count'].astype('int')\n",
    "    vote_averages = df[df['vote_average'].notnull()]['vote_average'].astype('int')\n",
    "    C = vote_averages.mean()\n",
    "    m = vote_counts.quantile(percentile)\n",
    "\n",
    "    qualified = df[(df['vote_count'] >= m) & (df['vote_count'].notnull()\n",
    "                & (df['vote_average'].notnull()))][['title', 'year', 'vote_count', 'vote_average', 'popularity']]\n",
    "\n",
    "    qualified['vote_count'] = qualified['vote_count'].astype('int')\n",
    "    qualified['vote_average'] = qualified['vote_average'].astype('int')\n",
    "\n",
    "    qualified['wr'] = qualified.apply(lambda x: (x['vote_count']/(x['vote_count']+m) * x['vote_average']) + (m/(m+x['vote_count']) * C), axis=1)\n",
    "    qualified = qualified.sort_values('wr', ascending = False).head(250)\n",
    "    \n",
    "    return qualified"
   ]
  },
  {
   "cell_type": "markdown",
   "id": "tribal-belle",
   "metadata": {
    "papermill": {
     "duration": 0.065842,
     "end_time": "2022-05-31T01:26:16.917137",
     "exception": false,
     "start_time": "2022-05-31T01:26:16.851295",
     "status": "completed"
    },
    "tags": []
   },
   "source": [
    "이제 우리는 Top 15 로맨스 영화를 찾아주는 우리의 method를 보자.\n",
    "(로맨스는 가장 유명한 영화 장르임에도 불구하고 Generic Top Chart에서는 거의 보이지 않았습니다.)"
   ]
  },
  {
   "cell_type": "markdown",
   "id": "boolean-bronze",
   "metadata": {
    "papermill": {
     "duration": 0.067567,
     "end_time": "2022-05-31T01:26:17.051914",
     "exception": false,
     "start_time": "2022-05-31T01:26:16.984347",
     "status": "completed"
    },
    "tags": []
   },
   "source": [
    "### **Top Romance Movies**\n",
    "우리의 측정에 따르면 가장 유명한 영화는 Bollywood의 **Dilwale Dulhania Le Jayenge**이다. (힌디영화계의 용감한 자가 미인을 얻는다.)"
   ]
  },
  {
   "cell_type": "code",
   "execution_count": 18,
   "id": "modern-entertainment",
   "metadata": {
    "execution": {
     "iopub.execute_input": "2022-05-31T01:26:17.203242Z",
     "iopub.status.busy": "2022-05-31T01:26:17.202227Z",
     "iopub.status.idle": "2022-05-31T01:26:17.272865Z",
     "shell.execute_reply": "2022-05-31T01:26:17.272254Z"
    },
    "papermill": {
     "duration": 0.15551,
     "end_time": "2022-05-31T01:26:17.273022",
     "exception": false,
     "start_time": "2022-05-31T01:26:17.117512",
     "status": "completed"
    },
    "tags": []
   },
   "outputs": [
    {
     "data": {
      "text/html": [
       "<div>\n",
       "<style scoped>\n",
       "    .dataframe tbody tr th:only-of-type {\n",
       "        vertical-align: middle;\n",
       "    }\n",
       "\n",
       "    .dataframe tbody tr th {\n",
       "        vertical-align: top;\n",
       "    }\n",
       "\n",
       "    .dataframe thead th {\n",
       "        text-align: right;\n",
       "    }\n",
       "</style>\n",
       "<table border=\"1\" class=\"dataframe\">\n",
       "  <thead>\n",
       "    <tr style=\"text-align: right;\">\n",
       "      <th></th>\n",
       "      <th>title</th>\n",
       "      <th>year</th>\n",
       "      <th>vote_count</th>\n",
       "      <th>vote_average</th>\n",
       "      <th>popularity</th>\n",
       "      <th>wr</th>\n",
       "    </tr>\n",
       "  </thead>\n",
       "  <tbody>\n",
       "    <tr>\n",
       "      <th>10309</th>\n",
       "      <td>Dilwale Dulhania Le Jayenge</td>\n",
       "      <td>1995</td>\n",
       "      <td>661</td>\n",
       "      <td>9</td>\n",
       "      <td>34.457024</td>\n",
       "      <td>8.565285</td>\n",
       "    </tr>\n",
       "    <tr>\n",
       "      <th>351</th>\n",
       "      <td>Forrest Gump</td>\n",
       "      <td>1994</td>\n",
       "      <td>8147</td>\n",
       "      <td>8</td>\n",
       "      <td>48.307194</td>\n",
       "      <td>7.971357</td>\n",
       "    </tr>\n",
       "    <tr>\n",
       "      <th>876</th>\n",
       "      <td>Vertigo</td>\n",
       "      <td>1958</td>\n",
       "      <td>1162</td>\n",
       "      <td>8</td>\n",
       "      <td>18.20822</td>\n",
       "      <td>7.811667</td>\n",
       "    </tr>\n",
       "    <tr>\n",
       "      <th>40251</th>\n",
       "      <td>Your Name.</td>\n",
       "      <td>2016</td>\n",
       "      <td>1030</td>\n",
       "      <td>8</td>\n",
       "      <td>34.461252</td>\n",
       "      <td>7.789489</td>\n",
       "    </tr>\n",
       "    <tr>\n",
       "      <th>883</th>\n",
       "      <td>Some Like It Hot</td>\n",
       "      <td>1959</td>\n",
       "      <td>835</td>\n",
       "      <td>8</td>\n",
       "      <td>11.845107</td>\n",
       "      <td>7.745154</td>\n",
       "    </tr>\n",
       "    <tr>\n",
       "      <th>1132</th>\n",
       "      <td>Cinema Paradiso</td>\n",
       "      <td>1988</td>\n",
       "      <td>834</td>\n",
       "      <td>8</td>\n",
       "      <td>14.177005</td>\n",
       "      <td>7.744878</td>\n",
       "    </tr>\n",
       "    <tr>\n",
       "      <th>19901</th>\n",
       "      <td>Paperman</td>\n",
       "      <td>2012</td>\n",
       "      <td>734</td>\n",
       "      <td>8</td>\n",
       "      <td>7.198633</td>\n",
       "      <td>7.713951</td>\n",
       "    </tr>\n",
       "    <tr>\n",
       "      <th>37863</th>\n",
       "      <td>Sing Street</td>\n",
       "      <td>2016</td>\n",
       "      <td>669</td>\n",
       "      <td>8</td>\n",
       "      <td>10.672862</td>\n",
       "      <td>7.689483</td>\n",
       "    </tr>\n",
       "    <tr>\n",
       "      <th>882</th>\n",
       "      <td>The Apartment</td>\n",
       "      <td>1960</td>\n",
       "      <td>498</td>\n",
       "      <td>8</td>\n",
       "      <td>11.994281</td>\n",
       "      <td>7.599317</td>\n",
       "    </tr>\n",
       "    <tr>\n",
       "      <th>38718</th>\n",
       "      <td>The Handmaiden</td>\n",
       "      <td>2016</td>\n",
       "      <td>453</td>\n",
       "      <td>8</td>\n",
       "      <td>16.727405</td>\n",
       "      <td>7.566166</td>\n",
       "    </tr>\n",
       "    <tr>\n",
       "      <th>3189</th>\n",
       "      <td>City Lights</td>\n",
       "      <td>1931</td>\n",
       "      <td>444</td>\n",
       "      <td>8</td>\n",
       "      <td>10.891524</td>\n",
       "      <td>7.558867</td>\n",
       "    </tr>\n",
       "    <tr>\n",
       "      <th>24886</th>\n",
       "      <td>The Way He Looks</td>\n",
       "      <td>2014</td>\n",
       "      <td>262</td>\n",
       "      <td>8</td>\n",
       "      <td>5.711274</td>\n",
       "      <td>7.331363</td>\n",
       "    </tr>\n",
       "    <tr>\n",
       "      <th>45437</th>\n",
       "      <td>In a Heartbeat</td>\n",
       "      <td>2017</td>\n",
       "      <td>146</td>\n",
       "      <td>8</td>\n",
       "      <td>20.82178</td>\n",
       "      <td>7.003959</td>\n",
       "    </tr>\n",
       "    <tr>\n",
       "      <th>1639</th>\n",
       "      <td>Titanic</td>\n",
       "      <td>1997</td>\n",
       "      <td>7770</td>\n",
       "      <td>7</td>\n",
       "      <td>26.88907</td>\n",
       "      <td>6.981546</td>\n",
       "    </tr>\n",
       "    <tr>\n",
       "      <th>19731</th>\n",
       "      <td>Silver Linings Playbook</td>\n",
       "      <td>2012</td>\n",
       "      <td>4840</td>\n",
       "      <td>7</td>\n",
       "      <td>14.488111</td>\n",
       "      <td>6.970581</td>\n",
       "    </tr>\n",
       "  </tbody>\n",
       "</table>\n",
       "</div>"
      ],
      "text/plain": [
       "                             title  year  vote_count  vote_average popularity  \\\n",
       "10309  Dilwale Dulhania Le Jayenge  1995         661             9  34.457024   \n",
       "351                   Forrest Gump  1994        8147             8  48.307194   \n",
       "876                        Vertigo  1958        1162             8   18.20822   \n",
       "40251                   Your Name.  2016        1030             8  34.461252   \n",
       "883               Some Like It Hot  1959         835             8  11.845107   \n",
       "1132               Cinema Paradiso  1988         834             8  14.177005   \n",
       "19901                     Paperman  2012         734             8   7.198633   \n",
       "37863                  Sing Street  2016         669             8  10.672862   \n",
       "882                  The Apartment  1960         498             8  11.994281   \n",
       "38718               The Handmaiden  2016         453             8  16.727405   \n",
       "3189                   City Lights  1931         444             8  10.891524   \n",
       "24886             The Way He Looks  2014         262             8   5.711274   \n",
       "45437               In a Heartbeat  2017         146             8   20.82178   \n",
       "1639                       Titanic  1997        7770             7   26.88907   \n",
       "19731      Silver Linings Playbook  2012        4840             7  14.488111   \n",
       "\n",
       "             wr  \n",
       "10309  8.565285  \n",
       "351    7.971357  \n",
       "876    7.811667  \n",
       "40251  7.789489  \n",
       "883    7.745154  \n",
       "1132   7.744878  \n",
       "19901  7.713951  \n",
       "37863  7.689483  \n",
       "882    7.599317  \n",
       "38718  7.566166  \n",
       "3189   7.558867  \n",
       "24886  7.331363  \n",
       "45437  7.003959  \n",
       "1639   6.981546  \n",
       "19731  6.970581  "
      ]
     },
     "execution_count": 18,
     "metadata": {},
     "output_type": "execute_result"
    }
   ],
   "source": [
    "build_chart('Romance').head(15)"
   ]
  },
  {
   "cell_type": "markdown",
   "id": "laughing-resort",
   "metadata": {
    "papermill": {
     "duration": 0.066452,
     "end_time": "2022-05-31T01:26:17.406358",
     "exception": false,
     "start_time": "2022-05-31T01:26:17.339906",
     "status": "completed"
    },
    "tags": []
   },
   "source": [
    "### Content Based Recommender\n",
    "우리가 만든 위의 Recommender는 몇가지 한계가 있다.\n",
    "그 중 하나는, 유저의 개인척 취향이 고려되지 않은 모두에게 같은 추천이라는 점이다. \n",
    "로맨틱한 영화를 좋아하고 액션을 싫어하는 사람이 Top 15 Chart를 본다면 아마도 대부분의 영화를 좋아하지 않을 것입니다. 그가 한 단계 더 나아가 장르별로 차트를 살펴본다면 여전히 최고의 추천을 받진 못할 것입니다.\n",
    "\n",
    "* 우리가 해야할 일 : 처음에는 분야별로의 최상위를 추천해주고 (요기서 미리 함수가 짜여져 있어야할 것), 서비스를 사용할 수록 개인에게 맞는 추천\n",
    "\n",
    "\n",
    "예를 들어, Dilwale Dulhania Le Jayenge, My Name is Khan and Kabhi Khushi Kabhi Gham을 좋아하는 사람을 생각해보자. 우린 그 사람이 Shahrukh Khan이라는 배우와 Karan Johar라는 감독을 좋아함을 유추할 수 있다. 심지어 그는좋아함을 유추할 수 있다. 그럼에도 불구하고 그는 로맨스 차트를 접속하였을 때, Top recommendation에서 이것들을 찾을 수 없었을 것이다.\n",
    "\n",
    "\n",
    "우리의 추천을 좀 더 개인화시키기 위해, 나는 특정한 측정을 기반으로 한 영화 사이의 유사성을 계산해주는 engine을 개발하여 그 유저가 좋아하는 특별한 영화와 가장 비슷한 영화를 추천해줄 것이다. 이 engine을 개발하기 위해 영화 metadata (or content)를 쓸 것이기 때문에, 이것은 **Content Based Filtering**이라고 알려져 있다.\n",
    "\n",
    "\n",
    "나는 두 개의 Content Based Recommender를 개발할 것이다. 아래의 기반을 둔 :\n",
    "* 영화의 개요와 짧은 요약(Overview and Tagline)\n",
    "* 영화의 캐스팅, 출연자, 키워드, 장르(Cast, Crew, Keywords and Genre)\n",
    "\n",
    "\n",
    "또한 소개에 언급했다싶이, 사용할 수 있는 컴퓨팅 성능이 제한되어 있으므로 모든 영화의 일부를 사용할 것이다."
   ]
  },
  {
   "cell_type": "code",
   "execution_count": 19,
   "id": "pediatric-borough",
   "metadata": {
    "execution": {
     "iopub.execute_input": "2022-05-31T01:26:17.543979Z",
     "iopub.status.busy": "2022-05-31T01:26:17.543356Z",
     "iopub.status.idle": "2022-05-31T01:26:17.564727Z",
     "shell.execute_reply": "2022-05-31T01:26:17.565279Z"
    },
    "papermill": {
     "duration": 0.092356,
     "end_time": "2022-05-31T01:26:17.565440",
     "exception": false,
     "start_time": "2022-05-31T01:26:17.473084",
     "status": "completed"
    },
    "tags": []
   },
   "outputs": [],
   "source": [
    "links_small = pd.read_csv('../input/the-movies-dataset/links_small.csv')\n",
    "links_small = links_small[links_small['tmdbId'].notnull()]['tmdbId'].astype('int')"
   ]
  },
  {
   "cell_type": "code",
   "execution_count": 20,
   "id": "divine-alarm",
   "metadata": {
    "execution": {
     "iopub.execute_input": "2022-05-31T01:26:17.702577Z",
     "iopub.status.busy": "2022-05-31T01:26:17.701989Z",
     "iopub.status.idle": "2022-05-31T01:26:17.762907Z",
     "shell.execute_reply": "2022-05-31T01:26:17.762313Z"
    },
    "papermill": {
     "duration": 0.130942,
     "end_time": "2022-05-31T01:26:17.763053",
     "exception": false,
     "start_time": "2022-05-31T01:26:17.632111",
     "status": "completed"
    },
    "tags": []
   },
   "outputs": [
    {
     "data": {
      "text/plain": [
       "(9099, 25)"
      ]
     },
     "execution_count": 20,
     "metadata": {},
     "output_type": "execute_result"
    }
   ],
   "source": [
    "md = md.drop([19730, 29503, 35587])\n",
    "md['id'] = md['id'].astype('int')\n",
    "smd = md[md['id'].isin(links_small)]\n",
    "smd.shape"
   ]
  },
  {
   "cell_type": "markdown",
   "id": "persistent-translator",
   "metadata": {
    "papermill": {
     "duration": 0.068172,
     "end_time": "2022-05-31T01:26:17.897851",
     "exception": false,
     "start_time": "2022-05-31T01:26:17.829679",
     "status": "completed"
    },
    "tags": []
   },
   "source": [
    "우리는 original dataset인 45000개의 영화보다 5배 작은 9099개의 영화 데이터 셋을 가지고 있음\n",
    "\n",
    "\n",
    "### 추천에 기반한 영화 서술\n",
    "우리는 처음으로 영화 description과 tagline들을 이용한 추천 시스템을 개발할 것입니다. 우리는 기계의 성능을 판단할 수 있는 정량적 지표가 없기에 질적으로 수행되어야합니다."
   ]
  },
  {
   "cell_type": "code",
   "execution_count": 21,
   "id": "august-adolescent",
   "metadata": {
    "execution": {
     "iopub.execute_input": "2022-05-31T01:26:18.035159Z",
     "iopub.status.busy": "2022-05-31T01:26:18.034517Z",
     "iopub.status.idle": "2022-05-31T01:26:18.050098Z",
     "shell.execute_reply": "2022-05-31T01:26:18.050600Z"
    },
    "papermill": {
     "duration": 0.08641,
     "end_time": "2022-05-31T01:26:18.050767",
     "exception": false,
     "start_time": "2022-05-31T01:26:17.964357",
     "status": "completed"
    },
    "tags": []
   },
   "outputs": [],
   "source": [
    "# 내용을 기반으로 추천하기 위해 정보를 합쳐줌\n",
    "smd['tagline'] = smd['tagline'].fillna('')\n",
    "smd['description'] = smd['overview'] + smd['tagline']\n",
    "smd['description'] = smd['description'].fillna('')"
   ]
  },
  {
   "cell_type": "code",
   "execution_count": 22,
   "id": "interested-discovery",
   "metadata": {
    "execution": {
     "iopub.execute_input": "2022-05-31T01:26:18.187851Z",
     "iopub.status.busy": "2022-05-31T01:26:18.187250Z",
     "iopub.status.idle": "2022-05-31T01:26:20.300549Z",
     "shell.execute_reply": "2022-05-31T01:26:20.299606Z"
    },
    "papermill": {
     "duration": 2.182851,
     "end_time": "2022-05-31T01:26:20.300698",
     "exception": false,
     "start_time": "2022-05-31T01:26:18.117847",
     "status": "completed"
    },
    "tags": []
   },
   "outputs": [],
   "source": [
    "tf = TfidfVectorizer(analyzer='word', ngram_range=(1, 2), min_df=0, stop_words='english')\n",
    "tfidf_matrix = tf.fit_transform(smd['description'])"
   ]
  },
  {
   "cell_type": "code",
   "execution_count": 23,
   "id": "gross-grenada",
   "metadata": {
    "execution": {
     "iopub.execute_input": "2022-05-31T01:26:20.439336Z",
     "iopub.status.busy": "2022-05-31T01:26:20.438719Z",
     "iopub.status.idle": "2022-05-31T01:26:20.441331Z",
     "shell.execute_reply": "2022-05-31T01:26:20.441778Z"
    },
    "papermill": {
     "duration": 0.074291,
     "end_time": "2022-05-31T01:26:20.441941",
     "exception": false,
     "start_time": "2022-05-31T01:26:20.367650",
     "status": "completed"
    },
    "tags": []
   },
   "outputs": [
    {
     "data": {
      "text/plain": [
       "(9099, 268124)"
      ]
     },
     "execution_count": 23,
     "metadata": {},
     "output_type": "execute_result"
    }
   ],
   "source": [
    "tfidf_matrix.shape"
   ]
  },
  {
   "cell_type": "markdown",
   "id": "genuine-savage",
   "metadata": {
    "papermill": {
     "duration": 0.066979,
     "end_time": "2022-05-31T01:26:20.576546",
     "exception": false,
     "start_time": "2022-05-31T01:26:20.509567",
     "status": "completed"
    },
    "tags": []
   },
   "source": [
    "### Cosine Similarity\n",
    "나는 두 영화 사이의 유사도의 수치적 정도를 계산하기 위해 Cosine Similarity를 사용할 것이다. 수학적으로, 이것은 아래와 같이 정의된다 :  \n",
    "$ cosine(x, y) = \\frac{x \\cdot y^\\top}{\\parallel x \\parallel \\cdot \\parallel y \\parallel} $  \n",
    "우리가 TF_IDF Vectorizer를 사용했기 때문에, 내적이 바로 Cosine Similarity Score를 제공해준다. 그러므로 우리는 cosine_similarities대신에 더 빠른 sklearn의 linear_kernel을 사용할 것이다."
   ]
  },
  {
   "cell_type": "code",
   "execution_count": 24,
   "id": "checked-shelf",
   "metadata": {
    "execution": {
     "iopub.execute_input": "2022-05-31T01:26:20.715529Z",
     "iopub.status.busy": "2022-05-31T01:26:20.714900Z",
     "iopub.status.idle": "2022-05-31T01:26:22.364803Z",
     "shell.execute_reply": "2022-05-31T01:26:22.364101Z"
    },
    "papermill": {
     "duration": 1.720022,
     "end_time": "2022-05-31T01:26:22.364953",
     "exception": false,
     "start_time": "2022-05-31T01:26:20.644931",
     "status": "completed"
    },
    "tags": []
   },
   "outputs": [],
   "source": [
    "cosine_sim = linear_kernel(tfidf_matrix, tfidf_matrix)"
   ]
  },
  {
   "cell_type": "code",
   "execution_count": 25,
   "id": "possible-rendering",
   "metadata": {
    "execution": {
     "iopub.execute_input": "2022-05-31T01:26:22.509540Z",
     "iopub.status.busy": "2022-05-31T01:26:22.508879Z",
     "iopub.status.idle": "2022-05-31T01:26:22.512252Z",
     "shell.execute_reply": "2022-05-31T01:26:22.512848Z"
    },
    "papermill": {
     "duration": 0.079301,
     "end_time": "2022-05-31T01:26:22.513122",
     "exception": false,
     "start_time": "2022-05-31T01:26:22.433821",
     "status": "completed"
    },
    "tags": []
   },
   "outputs": [
    {
     "data": {
      "text/plain": [
       "array([1.        , 0.00680476, 0.        , ..., 0.        , 0.00344913,\n",
       "       0.        ])"
      ]
     },
     "execution_count": 25,
     "metadata": {},
     "output_type": "execute_result"
    }
   ],
   "source": [
    "cosine_sim[0]"
   ]
  },
  {
   "cell_type": "markdown",
   "id": "qualified-shareware",
   "metadata": {
    "papermill": {
     "duration": 0.068947,
     "end_time": "2022-05-31T01:26:22.651334",
     "exception": false,
     "start_time": "2022-05-31T01:26:22.582387",
     "status": "completed"
    },
    "tags": []
   },
   "source": [
    "우리는 우리의 dataset 안의 모든 영화에 대한 쌍별 consine similarity matrix를 가지고 있습니다. 다음 단계는 cosine similarity 점수를 기반으로 가장 비슷한 영화 30개를 반환해주는 함수를 작성하겠습니다."
   ]
  },
  {
   "cell_type": "code",
   "execution_count": 26,
   "id": "coupled-offense",
   "metadata": {
    "execution": {
     "iopub.execute_input": "2022-05-31T01:26:22.792751Z",
     "iopub.status.busy": "2022-05-31T01:26:22.792144Z",
     "iopub.status.idle": "2022-05-31T01:26:22.801970Z",
     "shell.execute_reply": "2022-05-31T01:26:22.802457Z"
    },
    "papermill": {
     "duration": 0.081005,
     "end_time": "2022-05-31T01:26:22.802664",
     "exception": false,
     "start_time": "2022-05-31T01:26:22.721659",
     "status": "completed"
    },
    "tags": []
   },
   "outputs": [],
   "source": [
    "smd = smd.reset_index() # 이 과정은 왜 필요하지?\n",
    "titles = smd['title']\n",
    "indices = pd.Series(smd.index, index=smd['title'])"
   ]
  },
  {
   "cell_type": "code",
   "execution_count": 27,
   "id": "spiritual-helen",
   "metadata": {
    "execution": {
     "iopub.execute_input": "2022-05-31T01:26:22.943108Z",
     "iopub.status.busy": "2022-05-31T01:26:22.942512Z",
     "iopub.status.idle": "2022-05-31T01:26:22.947567Z",
     "shell.execute_reply": "2022-05-31T01:26:22.948155Z"
    },
    "papermill": {
     "duration": 0.076851,
     "end_time": "2022-05-31T01:26:22.948347",
     "exception": false,
     "start_time": "2022-05-31T01:26:22.871496",
     "status": "completed"
    },
    "tags": []
   },
   "outputs": [],
   "source": [
    "def get_recommendations(title):\n",
    "    idx = indices[title]\n",
    "    sim_scores = list(enumerate(cosine_sim[idx]))\n",
    "    sim_scores = sorted(sim_scores, key=lambda x: x[1], reverse=True)\n",
    "    sim_scores = sim_scores[1:31]\n",
    "    movie_indices = [i[0] for i in sim_scores]\n",
    "    return titles.iloc[movie_indices]"
   ]
  },
  {
   "cell_type": "markdown",
   "id": "french-cursor",
   "metadata": {
    "papermill": {
     "duration": 0.069589,
     "end_time": "2022-05-31T01:26:23.086933",
     "exception": false,
     "start_time": "2022-05-31T01:26:23.017344",
     "status": "completed"
    },
    "tags": []
   },
   "source": [
    "모두 준비가 됐다. 이제 몇 가지 영화에 대해 top recommendation을 시도해보고 얼마나 좋은 지 확인해보자.\n",
    "\n",
    "* 처음 접속한 유저 : 분류에 따라 상위 랭크를 보여주고(simple),\n",
    "* 이용 중 : 조회수가 가장 높은 공모전과 비슷한 것을 보여주고(content based),\n",
    "* 마지막 : 전체 데이터 기반으로 보여줌"
   ]
  },
  {
   "cell_type": "code",
   "execution_count": 28,
   "id": "otherwise-reaction",
   "metadata": {
    "execution": {
     "iopub.execute_input": "2022-05-31T01:26:23.228657Z",
     "iopub.status.busy": "2022-05-31T01:26:23.228084Z",
     "iopub.status.idle": "2022-05-31T01:26:23.247465Z",
     "shell.execute_reply": "2022-05-31T01:26:23.247929Z"
    },
    "papermill": {
     "duration": 0.092014,
     "end_time": "2022-05-31T01:26:23.248092",
     "exception": false,
     "start_time": "2022-05-31T01:26:23.156078",
     "status": "completed"
    },
    "tags": []
   },
   "outputs": [
    {
     "data": {
      "text/plain": [
       "973      The Godfather: Part II\n",
       "8387                 The Family\n",
       "3509                       Made\n",
       "4196         Johnny Dangerously\n",
       "29               Shanghai Triad\n",
       "5667                       Fury\n",
       "2412             American Movie\n",
       "1582    The Godfather: Part III\n",
       "4221                    8 Women\n",
       "2159              Summer of Sam\n",
       "Name: title, dtype: object"
      ]
     },
     "execution_count": 28,
     "metadata": {},
     "output_type": "execute_result"
    }
   ],
   "source": [
    "get_recommendations('The Godfather').head(10)"
   ]
  },
  {
   "cell_type": "code",
   "execution_count": 29,
   "id": "statistical-compression",
   "metadata": {
    "execution": {
     "iopub.execute_input": "2022-05-31T01:26:23.389743Z",
     "iopub.status.busy": "2022-05-31T01:26:23.389133Z",
     "iopub.status.idle": "2022-05-31T01:26:23.406609Z",
     "shell.execute_reply": "2022-05-31T01:26:23.407089Z"
    },
    "papermill": {
     "duration": 0.089763,
     "end_time": "2022-05-31T01:26:23.407253",
     "exception": false,
     "start_time": "2022-05-31T01:26:23.317490",
     "status": "completed"
    },
    "tags": []
   },
   "outputs": [
    {
     "data": {
      "text/plain": [
       "7931                      The Dark Knight Rises\n",
       "132                              Batman Forever\n",
       "1113                             Batman Returns\n",
       "8227    Batman: The Dark Knight Returns, Part 2\n",
       "7565                 Batman: Under the Red Hood\n",
       "524                                      Batman\n",
       "7901                           Batman: Year One\n",
       "2579               Batman: Mask of the Phantasm\n",
       "2696                                        JFK\n",
       "8165    Batman: The Dark Knight Returns, Part 1\n",
       "Name: title, dtype: object"
      ]
     },
     "execution_count": 29,
     "metadata": {},
     "output_type": "execute_result"
    }
   ],
   "source": [
    "get_recommendations('The Dark Knight').head(10)"
   ]
  },
  {
   "cell_type": "markdown",
   "id": "accompanied-procurement",
   "metadata": {
    "papermill": {
     "duration": 0.07034,
     "end_time": "2022-05-31T01:26:23.547923",
     "exception": false,
     "start_time": "2022-05-31T01:26:23.477583",
     "status": "completed"
    },
    "tags": []
   },
   "source": [
    "The Dark Knight의 경우 시스템이 배트맨 영화로 식별하고 이후에 다른 배트맨 영화를 Top recommendation으로 추천할 수 있다. 하지만 안타깝게도 이것이 이 시스템이 현재 할 수 있는 전부다. 이것은 영화의 인기와 평점을 결정하는 출연진, 제작진, 감독 및 장르와 같이 매우 중요한 요소를 고려하지 않기 때문에 대부분의 사람들에게 별로 유용하지 않다. The Dark Knight를 좋아하는 사람은 아마도 Nolan 때문에 그것을 더 좋아할 것이고, Batman Forever와 모든 다른 수준 이하의 Batman 프랜차이즈 영화를 좋아하진 않을 것다. \n",
    "\n",
    "\n",
    "그러므로 우리는 Overview와 Tagline보다 훨씬 더 암시적인 metadata를 사용할 것입니다. 다음 섹션에서는, 우리는 장르와, 출연진 그리고 제작진을 고려요소로 채택해 더 수준 높은 추천 시스템을 개발할 것이다.\n",
    "\n",
    "\n",
    "### Metadata Based Recommender\n",
    "표준 메타데이터 기반 콘텐츠 추천기를 개발하기 위해, 우리는 현재 데이터를 crew와 keyword 데이터와 합칠 필요가 있다. 첫 번째로 이 데이터부터 준비해보자"
   ]
  },
  {
   "cell_type": "code",
   "execution_count": 30,
   "id": "wired-disclaimer",
   "metadata": {
    "execution": {
     "iopub.execute_input": "2022-05-31T01:26:23.691647Z",
     "iopub.status.busy": "2022-05-31T01:26:23.691038Z",
     "iopub.status.idle": "2022-05-31T01:26:27.585916Z",
     "shell.execute_reply": "2022-05-31T01:26:27.585319Z"
    },
    "papermill": {
     "duration": 3.96757,
     "end_time": "2022-05-31T01:26:27.586059",
     "exception": false,
     "start_time": "2022-05-31T01:26:23.618489",
     "status": "completed"
    },
    "tags": []
   },
   "outputs": [],
   "source": [
    "credits = pd.read_csv('../input/the-movies-dataset/credits.csv')\n",
    "keywords = pd.read_csv('../input/the-movies-dataset/keywords.csv')"
   ]
  },
  {
   "cell_type": "code",
   "execution_count": 31,
   "id": "differential-python",
   "metadata": {
    "execution": {
     "iopub.execute_input": "2022-05-31T01:26:27.732445Z",
     "iopub.status.busy": "2022-05-31T01:26:27.731402Z",
     "iopub.status.idle": "2022-05-31T01:26:27.736114Z",
     "shell.execute_reply": "2022-05-31T01:26:27.735497Z"
    },
    "papermill": {
     "duration": 0.080363,
     "end_time": "2022-05-31T01:26:27.736245",
     "exception": false,
     "start_time": "2022-05-31T01:26:27.655882",
     "status": "completed"
    },
    "tags": []
   },
   "outputs": [],
   "source": [
    "keywords['id'] = keywords['id'].astype('int')\n",
    "credits['id'] = credits['id'].astype('int')\n",
    "md['id'] = md['id'].astype('int')"
   ]
  },
  {
   "cell_type": "code",
   "execution_count": 32,
   "id": "flush-machine",
   "metadata": {
    "execution": {
     "iopub.execute_input": "2022-05-31T01:26:27.879517Z",
     "iopub.status.busy": "2022-05-31T01:26:27.878634Z",
     "iopub.status.idle": "2022-05-31T01:26:27.883038Z",
     "shell.execute_reply": "2022-05-31T01:26:27.882414Z"
    },
    "papermill": {
     "duration": 0.078068,
     "end_time": "2022-05-31T01:26:27.883168",
     "exception": false,
     "start_time": "2022-05-31T01:26:27.805100",
     "status": "completed"
    },
    "tags": []
   },
   "outputs": [
    {
     "data": {
      "text/plain": [
       "(45463, 25)"
      ]
     },
     "execution_count": 32,
     "metadata": {},
     "output_type": "execute_result"
    }
   ],
   "source": [
    "md.shape"
   ]
  },
  {
   "cell_type": "code",
   "execution_count": 33,
   "id": "auburn-identifier",
   "metadata": {
    "execution": {
     "iopub.execute_input": "2022-05-31T01:26:28.031506Z",
     "iopub.status.busy": "2022-05-31T01:26:28.028405Z",
     "iopub.status.idle": "2022-05-31T01:26:28.178968Z",
     "shell.execute_reply": "2022-05-31T01:26:28.178259Z"
    },
    "papermill": {
     "duration": 0.225518,
     "end_time": "2022-05-31T01:26:28.179125",
     "exception": false,
     "start_time": "2022-05-31T01:26:27.953607",
     "status": "completed"
    },
    "tags": []
   },
   "outputs": [],
   "source": [
    "md = md.merge(credits, on = 'id')\n",
    "md = md.merge(keywords, on = 'id')\n"
   ]
  },
  {
   "cell_type": "code",
   "execution_count": 34,
   "id": "committed-better",
   "metadata": {
    "execution": {
     "iopub.execute_input": "2022-05-31T01:26:28.326068Z",
     "iopub.status.busy": "2022-05-31T01:26:28.325165Z",
     "iopub.status.idle": "2022-05-31T01:26:28.329657Z",
     "shell.execute_reply": "2022-05-31T01:26:28.329023Z"
    },
    "papermill": {
     "duration": 0.080303,
     "end_time": "2022-05-31T01:26:28.329791",
     "exception": false,
     "start_time": "2022-05-31T01:26:28.249488",
     "status": "completed"
    },
    "tags": []
   },
   "outputs": [
    {
     "data": {
      "text/plain": [
       "0          862\n",
       "1         8844\n",
       "2        15602\n",
       "3        31357\n",
       "4        11862\n",
       "         ...  \n",
       "9120    402672\n",
       "9121    315011\n",
       "9122    391698\n",
       "9123    137608\n",
       "9124    410803\n",
       "Name: tmdbId, Length: 9112, dtype: int64"
      ]
     },
     "execution_count": 34,
     "metadata": {},
     "output_type": "execute_result"
    }
   ],
   "source": [
    "links_small"
   ]
  },
  {
   "cell_type": "code",
   "execution_count": 35,
   "id": "ready-marathon",
   "metadata": {
    "execution": {
     "iopub.execute_input": "2022-05-31T01:26:28.477351Z",
     "iopub.status.busy": "2022-05-31T01:26:28.476392Z",
     "iopub.status.idle": "2022-05-31T01:26:28.526267Z",
     "shell.execute_reply": "2022-05-31T01:26:28.525450Z"
    },
    "papermill": {
     "duration": 0.125599,
     "end_time": "2022-05-31T01:26:28.526405",
     "exception": false,
     "start_time": "2022-05-31T01:26:28.400806",
     "status": "completed"
    },
    "tags": []
   },
   "outputs": [
    {
     "data": {
      "text/plain": [
       "(9219, 28)"
      ]
     },
     "execution_count": 35,
     "metadata": {},
     "output_type": "execute_result"
    }
   ],
   "source": [
    "smd = md[md['id'].isin(links_small)]\n",
    "smd.shape"
   ]
  },
  {
   "cell_type": "markdown",
   "id": "digital-apple",
   "metadata": {
    "papermill": {
     "duration": 0.070318,
     "end_time": "2022-05-31T01:26:28.667538",
     "exception": false,
     "start_time": "2022-05-31T01:26:28.597220",
     "status": "completed"
    },
    "tags": []
   },
   "source": [
    "우리는 이제 하나의 데이터프레임에 출연진, 제작진, 장르 및 credit이 들어가 있다. 아래의 직관을 통해 조금 더 사용가능하게 이야기 해보자\n",
    "\n",
    "1. **Crew** : crew에서 다른 것들은 영화의 feel에 영향을 끼치지 못함으로 감독 데이터만 뽑아내겠다.\n",
    "2. **Cast** : Cast를 선택하는 건 조금 더 까다롭다. 덜 알려진 배우와 마이너한 역할은 실제로도 영화에 대한 사람들의 의견에 영향을 끼치지 못한다. 그러므로, 우리는 메이저 캐릭터와 그것들의 배우만 뽑아야한다. 임의로 우리는 credits 리스트에서 나타나는 top3 배우만 고를 것이다"
   ]
  },
  {
   "cell_type": "code",
   "execution_count": 36,
   "id": "valued-amplifier",
   "metadata": {
    "execution": {
     "iopub.execute_input": "2022-05-31T01:26:28.821601Z",
     "iopub.status.busy": "2022-05-31T01:26:28.816158Z",
     "iopub.status.idle": "2022-05-31T01:26:42.901633Z",
     "shell.execute_reply": "2022-05-31T01:26:42.901072Z"
    },
    "papermill": {
     "duration": 14.163115,
     "end_time": "2022-05-31T01:26:42.901781",
     "exception": false,
     "start_time": "2022-05-31T01:26:28.738666",
     "status": "completed"
    },
    "tags": []
   },
   "outputs": [],
   "source": [
    "smd['cast'] = smd['cast'].apply(literal_eval)\n",
    "smd['crew'] = smd['crew'].apply(literal_eval)\n",
    "smd['keywords'] = smd['keywords'].apply(literal_eval)"
   ]
  },
  {
   "cell_type": "code",
   "execution_count": 37,
   "id": "established-hudson",
   "metadata": {
    "execution": {
     "iopub.execute_input": "2022-05-31T01:26:43.054897Z",
     "iopub.status.busy": "2022-05-31T01:26:43.054241Z",
     "iopub.status.idle": "2022-05-31T01:26:43.070246Z",
     "shell.execute_reply": "2022-05-31T01:26:43.069712Z"
    },
    "papermill": {
     "duration": 0.096191,
     "end_time": "2022-05-31T01:26:43.070375",
     "exception": false,
     "start_time": "2022-05-31T01:26:42.974184",
     "status": "completed"
    },
    "tags": []
   },
   "outputs": [],
   "source": [
    "smd['cast_size'] = smd['cast'].apply(lambda x : len(x))\n",
    "smd['crew_size'] = smd['crew'].apply(lambda x : len(x))"
   ]
  },
  {
   "cell_type": "code",
   "execution_count": 38,
   "id": "duplicate-lodging",
   "metadata": {
    "execution": {
     "iopub.execute_input": "2022-05-31T01:26:43.219360Z",
     "iopub.status.busy": "2022-05-31T01:26:43.218775Z",
     "iopub.status.idle": "2022-05-31T01:26:43.221765Z",
     "shell.execute_reply": "2022-05-31T01:26:43.221157Z"
    },
    "papermill": {
     "duration": 0.079312,
     "end_time": "2022-05-31T01:26:43.221903",
     "exception": false,
     "start_time": "2022-05-31T01:26:43.142591",
     "status": "completed"
    },
    "tags": []
   },
   "outputs": [],
   "source": [
    "def get_director(x) : \n",
    "    for i in x :\n",
    "        if i['job'] == 'Director' :\n",
    "            return i['name']\n",
    "    return np.nan"
   ]
  },
  {
   "cell_type": "code",
   "execution_count": 39,
   "id": "cardiovascular-illinois",
   "metadata": {
    "execution": {
     "iopub.execute_input": "2022-05-31T01:26:43.391701Z",
     "iopub.status.busy": "2022-05-31T01:26:43.391057Z",
     "iopub.status.idle": "2022-05-31T01:26:43.393776Z",
     "shell.execute_reply": "2022-05-31T01:26:43.394216Z"
    },
    "papermill": {
     "duration": 0.100684,
     "end_time": "2022-05-31T01:26:43.394377",
     "exception": false,
     "start_time": "2022-05-31T01:26:43.293693",
     "status": "completed"
    },
    "tags": []
   },
   "outputs": [],
   "source": [
    "smd['director'] = smd['crew'].apply(get_director)"
   ]
  },
  {
   "cell_type": "code",
   "execution_count": 40,
   "id": "prime-swing",
   "metadata": {
    "execution": {
     "iopub.execute_input": "2022-05-31T01:26:43.662839Z",
     "iopub.status.busy": "2022-05-31T01:26:43.576487Z",
     "iopub.status.idle": "2022-05-31T01:26:43.690084Z",
     "shell.execute_reply": "2022-05-31T01:26:43.689544Z"
    },
    "papermill": {
     "duration": 0.22408,
     "end_time": "2022-05-31T01:26:43.690218",
     "exception": false,
     "start_time": "2022-05-31T01:26:43.466138",
     "status": "completed"
    },
    "tags": []
   },
   "outputs": [],
   "source": [
    "smd['cast'] = smd['cast'].apply(lambda x : [i['name'] for i in\n",
    "            x] if isinstance(x, list) else [])\n",
    "\n",
    "smd['cast'] = smd['cast'].apply(lambda x : x[:3] if len(x) >= 3\n",
    "                               else x)"
   ]
  },
  {
   "cell_type": "code",
   "execution_count": 41,
   "id": "permanent-device",
   "metadata": {
    "execution": {
     "iopub.execute_input": "2022-05-31T01:26:43.845618Z",
     "iopub.status.busy": "2022-05-31T01:26:43.844862Z",
     "iopub.status.idle": "2022-05-31T01:26:43.871073Z",
     "shell.execute_reply": "2022-05-31T01:26:43.870484Z"
    },
    "papermill": {
     "duration": 0.108598,
     "end_time": "2022-05-31T01:26:43.871227",
     "exception": false,
     "start_time": "2022-05-31T01:26:43.762629",
     "status": "completed"
    },
    "tags": []
   },
   "outputs": [],
   "source": [
    "smd['keywords'] = smd['keywords'].apply(lambda x : [i['name'] for i in\n",
    "            x] if isinstance(x, list) else [])"
   ]
  },
  {
   "cell_type": "markdown",
   "id": "bigger-layer",
   "metadata": {
    "papermill": {
     "duration": 0.073146,
     "end_time": "2022-05-31T01:26:44.019787",
     "exception": false,
     "start_time": "2022-05-31T01:26:43.946641",
     "status": "completed"
    },
    "tags": []
   },
   "source": [
    "추천 시스템을 개발하는 대 접근 방식은 극도로 진부하다. 내가 할 계획은 장르, 감독, 주연 및 키워드로 구성된 모든 영화에 대한 데이터 덤프를 만드는 것이다. 나는 Description Recomment에서 했던 것처럼 **Count Vectorizer**을 사용하여 우리의 count matrix를 개발할 것이다. 이제 남은 단계는 우리가 이전에 했던 것과 유사합니다. cosine similarity를 계산하고 가장 유사한 영화를 반환합니다.\n",
    "\n",
    "다음은 장르 및 크레딧 데이터를 준비할 때 따르는 단계입니다.\n",
    "1. 모든 요소에서 **공백을 제거하고 소문자로 변환**합니다. 이렇게 하면, 우리의 엔진은 Johnny Depp과 Johnny Galecki를 혼동하지 않습니다.\n",
    "2. **감독을 3번 언급**하여 전체 출연진에 비해 더 가중치를 부여합니다."
   ]
  },
  {
   "cell_type": "code",
   "execution_count": 42,
   "id": "worthy-evidence",
   "metadata": {
    "execution": {
     "iopub.execute_input": "2022-05-31T01:26:44.169595Z",
     "iopub.status.busy": "2022-05-31T01:26:44.168634Z",
     "iopub.status.idle": "2022-05-31T01:26:44.188321Z",
     "shell.execute_reply": "2022-05-31T01:26:44.188898Z"
    },
    "papermill": {
     "duration": 0.095572,
     "end_time": "2022-05-31T01:26:44.189064",
     "exception": false,
     "start_time": "2022-05-31T01:26:44.093492",
     "status": "completed"
    },
    "tags": []
   },
   "outputs": [],
   "source": [
    "smd['director'] = smd['director'].astype('str').apply(lambda x: str.lower(x.replace(\" \",\"\")))\n",
    "smd['director'] = smd['director'].apply(lambda x: [x, x, x])"
   ]
  },
  {
   "cell_type": "markdown",
   "id": "molecular-leeds",
   "metadata": {
    "papermill": {
     "duration": 0.072683,
     "end_time": "2022-05-31T01:26:44.334895",
     "exception": false,
     "start_time": "2022-05-31T01:26:44.262212",
     "status": "completed"
    },
    "tags": []
   },
   "source": [
    "### Keywords\n",
    "키워드를 사용하기 전에 소량의 전처리를 수행하겠다. 처음으로, 데이터셋에 모든 keyword의 빈도를 계산한다."
   ]
  },
  {
   "cell_type": "code",
   "execution_count": 43,
   "id": "associate-phase",
   "metadata": {
    "execution": {
     "iopub.execute_input": "2022-05-31T01:26:44.484075Z",
     "iopub.status.busy": "2022-05-31T01:26:44.483157Z",
     "iopub.status.idle": "2022-05-31T01:26:48.864760Z",
     "shell.execute_reply": "2022-05-31T01:26:48.863607Z"
    },
    "papermill": {
     "duration": 4.457297,
     "end_time": "2022-05-31T01:26:48.864932",
     "exception": false,
     "start_time": "2022-05-31T01:26:44.407635",
     "status": "completed"
    },
    "tags": []
   },
   "outputs": [],
   "source": [
    "s = smd.apply(lambda x: pd.Series(x['keywords']), axis = 1).stack().reset_index(level = 1, drop=True)\n",
    "s.name = 'keyword'"
   ]
  },
  {
   "cell_type": "code",
   "execution_count": 44,
   "id": "nonprofit-marshall",
   "metadata": {
    "execution": {
     "iopub.execute_input": "2022-05-31T01:26:49.014725Z",
     "iopub.status.busy": "2022-05-31T01:26:49.014092Z",
     "iopub.status.idle": "2022-05-31T01:26:49.052838Z",
     "shell.execute_reply": "2022-05-31T01:26:49.052278Z"
    },
    "papermill": {
     "duration": 0.115021,
     "end_time": "2022-05-31T01:26:49.052985",
     "exception": false,
     "start_time": "2022-05-31T01:26:48.937964",
     "status": "completed"
    },
    "tags": []
   },
   "outputs": [
    {
     "data": {
      "text/plain": [
       "independent film        610\n",
       "woman director          550\n",
       "murder                  399\n",
       "duringcreditsstinger    327\n",
       "based on novel          318\n",
       "Name: keyword, dtype: int64"
      ]
     },
     "execution_count": 44,
     "metadata": {},
     "output_type": "execute_result"
    }
   ],
   "source": [
    "s = s.value_counts()\n",
    "s[:5]"
   ]
  },
  {
   "cell_type": "markdown",
   "id": "confident-produce",
   "metadata": {
    "papermill": {
     "duration": 0.073485,
     "end_time": "2022-05-31T01:26:49.199515",
     "exception": false,
     "start_time": "2022-05-31T01:26:49.126030",
     "status": "completed"
    },
    "tags": []
   },
   "source": [
    "키워드는 1에서 610번까지의 빈도로 발생한다. 한번만 발생한 키워드는 사용하지 않겠다. 따라서 안전하게 제거할 수 있다. 마지막으로 Dogs와 Dog같은 같은 단어가 동일하게 간주되도록 모든 단어를 어간으로 변환한다."
   ]
  },
  {
   "cell_type": "code",
   "execution_count": 45,
   "id": "gross-cocktail",
   "metadata": {
    "execution": {
     "iopub.execute_input": "2022-05-31T01:26:49.353163Z",
     "iopub.status.busy": "2022-05-31T01:26:49.352515Z",
     "iopub.status.idle": "2022-05-31T01:26:49.357436Z",
     "shell.execute_reply": "2022-05-31T01:26:49.357970Z"
    },
    "papermill": {
     "duration": 0.083066,
     "end_time": "2022-05-31T01:26:49.358122",
     "exception": false,
     "start_time": "2022-05-31T01:26:49.275056",
     "status": "completed"
    },
    "tags": []
   },
   "outputs": [],
   "source": [
    "s = s[s>1]"
   ]
  },
  {
   "cell_type": "code",
   "execution_count": 46,
   "id": "korean-export",
   "metadata": {
    "execution": {
     "iopub.execute_input": "2022-05-31T01:26:49.507264Z",
     "iopub.status.busy": "2022-05-31T01:26:49.506516Z",
     "iopub.status.idle": "2022-05-31T01:26:49.511205Z",
     "shell.execute_reply": "2022-05-31T01:26:49.511735Z"
    },
    "papermill": {
     "duration": 0.080492,
     "end_time": "2022-05-31T01:26:49.511891",
     "exception": false,
     "start_time": "2022-05-31T01:26:49.431399",
     "status": "completed"
    },
    "tags": []
   },
   "outputs": [
    {
     "data": {
      "text/plain": [
       "'dog'"
      ]
     },
     "execution_count": 46,
     "metadata": {},
     "output_type": "execute_result"
    }
   ],
   "source": [
    "stemmer = SnowballStemmer('english')\n",
    "stemmer.stem('dogs')"
   ]
  },
  {
   "cell_type": "code",
   "execution_count": 47,
   "id": "entertaining-bearing",
   "metadata": {
    "execution": {
     "iopub.execute_input": "2022-05-31T01:26:49.662191Z",
     "iopub.status.busy": "2022-05-31T01:26:49.661589Z",
     "iopub.status.idle": "2022-05-31T01:26:49.665534Z",
     "shell.execute_reply": "2022-05-31T01:26:49.666031Z"
    },
    "papermill": {
     "duration": 0.080645,
     "end_time": "2022-05-31T01:26:49.666194",
     "exception": false,
     "start_time": "2022-05-31T01:26:49.585549",
     "status": "completed"
    },
    "tags": []
   },
   "outputs": [],
   "source": [
    "def filter_keywords(x) :\n",
    "    words = []\n",
    "    for i in x:\n",
    "        if i in s:\n",
    "            words.append(i)\n",
    "    return words"
   ]
  },
  {
   "cell_type": "code",
   "execution_count": 48,
   "id": "computational-vertical",
   "metadata": {
    "execution": {
     "iopub.execute_input": "2022-05-31T01:26:49.819571Z",
     "iopub.status.busy": "2022-05-31T01:26:49.818884Z",
     "iopub.status.idle": "2022-05-31T01:26:51.047807Z",
     "shell.execute_reply": "2022-05-31T01:26:51.047268Z"
    },
    "papermill": {
     "duration": 1.307296,
     "end_time": "2022-05-31T01:26:51.047970",
     "exception": false,
     "start_time": "2022-05-31T01:26:49.740674",
     "status": "completed"
    },
    "tags": []
   },
   "outputs": [],
   "source": [
    "smd['keywords'] = smd['keywords'].apply(filter_keywords)\n",
    "smd['keywords'] = smd['keywords'].apply(lambda x: [stemmer.stem(i) for i in x])\n",
    "smd['keywords'] = smd['keywords'].apply(lambda x: [str.lower(i.replace(\" \", \"\")) for i in x])"
   ]
  },
  {
   "cell_type": "code",
   "execution_count": 49,
   "id": "criminal-structure",
   "metadata": {
    "execution": {
     "iopub.execute_input": "2022-05-31T01:26:51.199982Z",
     "iopub.status.busy": "2022-05-31T01:26:51.199325Z",
     "iopub.status.idle": "2022-05-31T01:26:51.244204Z",
     "shell.execute_reply": "2022-05-31T01:26:51.244718Z"
    },
    "papermill": {
     "duration": 0.121645,
     "end_time": "2022-05-31T01:26:51.244887",
     "exception": false,
     "start_time": "2022-05-31T01:26:51.123242",
     "status": "completed"
    },
    "tags": []
   },
   "outputs": [],
   "source": [
    "smd['soup'] = smd['keywords'] + smd['cast'] + smd['director'] + smd['genres']\n",
    "smd['soup'] = smd['soup'].apply(lambda x: ' '.join(x))"
   ]
  },
  {
   "cell_type": "code",
   "execution_count": 50,
   "id": "adverse-policy",
   "metadata": {
    "execution": {
     "iopub.execute_input": "2022-05-31T01:26:51.395088Z",
     "iopub.status.busy": "2022-05-31T01:26:51.394494Z",
     "iopub.status.idle": "2022-05-31T01:26:52.316255Z",
     "shell.execute_reply": "2022-05-31T01:26:52.315638Z"
    },
    "papermill": {
     "duration": 0.99754,
     "end_time": "2022-05-31T01:26:52.316388",
     "exception": false,
     "start_time": "2022-05-31T01:26:51.318848",
     "status": "completed"
    },
    "tags": []
   },
   "outputs": [],
   "source": [
    "count = CountVectorizer(analyzer = 'word', ngram_range = (1, 2),\n",
    "                        min_df = 0,stop_words='english')\n",
    "\n",
    "count_matrix = count.fit_transform(smd['soup'])"
   ]
  },
  {
   "cell_type": "code",
   "execution_count": 51,
   "id": "numerous-shark",
   "metadata": {
    "execution": {
     "iopub.execute_input": "2022-05-31T01:26:52.469527Z",
     "iopub.status.busy": "2022-05-31T01:26:52.468857Z",
     "iopub.status.idle": "2022-05-31T01:26:54.297395Z",
     "shell.execute_reply": "2022-05-31T01:26:54.296663Z"
    },
    "papermill": {
     "duration": 1.906727,
     "end_time": "2022-05-31T01:26:54.297560",
     "exception": false,
     "start_time": "2022-05-31T01:26:52.390833",
     "status": "completed"
    },
    "tags": []
   },
   "outputs": [],
   "source": [
    "cosine_sim = cosine_similarity(count_matrix, count_matrix)"
   ]
  },
  {
   "cell_type": "code",
   "execution_count": 52,
   "id": "permanent-patrol",
   "metadata": {
    "execution": {
     "iopub.execute_input": "2022-05-31T01:26:54.452511Z",
     "iopub.status.busy": "2022-05-31T01:26:54.451829Z",
     "iopub.status.idle": "2022-05-31T01:26:54.462150Z",
     "shell.execute_reply": "2022-05-31T01:26:54.462673Z"
    },
    "papermill": {
     "duration": 0.090448,
     "end_time": "2022-05-31T01:26:54.462849",
     "exception": false,
     "start_time": "2022-05-31T01:26:54.372401",
     "status": "completed"
    },
    "tags": []
   },
   "outputs": [],
   "source": [
    "smd = smd.reset_index()\n",
    "titles = smd['title']\n",
    "indices = pd.Series(smd.index, index=smd['title'])"
   ]
  },
  {
   "cell_type": "markdown",
   "id": "hydraulic-orleans",
   "metadata": {
    "papermill": {
     "duration": 0.074135,
     "end_time": "2022-05-31T01:26:54.613263",
     "exception": false,
     "start_time": "2022-05-31T01:26:54.539128",
     "status": "completed"
    },
    "tags": []
   },
   "source": [
    "우리는 이전에 만들었던 get_recommendation 함수를 다시 사용할 것이다. 우리의 cosine similarity score가 변경됐기 때문에, 다르고 아마 더 좋은 결과를 반환해줄 것이다. The Dark Knight를 다시 검증해보고 추천이 무엇인지 확인해보자."
   ]
  },
  {
   "cell_type": "code",
   "execution_count": 53,
   "id": "green-panel",
   "metadata": {
    "execution": {
     "iopub.execute_input": "2022-05-31T01:26:54.767295Z",
     "iopub.status.busy": "2022-05-31T01:26:54.766675Z",
     "iopub.status.idle": "2022-05-31T01:26:54.786799Z",
     "shell.execute_reply": "2022-05-31T01:26:54.787373Z"
    },
    "papermill": {
     "duration": 0.099531,
     "end_time": "2022-05-31T01:26:54.787556",
     "exception": false,
     "start_time": "2022-05-31T01:26:54.688025",
     "status": "completed"
    },
    "tags": []
   },
   "outputs": [
    {
     "data": {
      "text/plain": [
       "8031         The Dark Knight Rises\n",
       "6218                 Batman Begins\n",
       "6623                  The Prestige\n",
       "2085                     Following\n",
       "7648                     Inception\n",
       "4145                      Insomnia\n",
       "3381                       Memento\n",
       "8613                  Interstellar\n",
       "1134                Batman Returns\n",
       "7659    Batman: Under the Red Hood\n",
       "Name: title, dtype: object"
      ]
     },
     "execution_count": 53,
     "metadata": {},
     "output_type": "execute_result"
    }
   ],
   "source": [
    "get_recommendations('The Dark Knight').head(10)"
   ]
  },
  {
   "cell_type": "markdown",
   "id": "closing-medicine",
   "metadata": {
    "papermill": {
     "duration": 0.074917,
     "end_time": "2022-05-31T01:26:54.937553",
     "exception": false,
     "start_time": "2022-05-31T01:26:54.862636",
     "status": "completed"
    },
    "tags": []
   },
   "source": [
    "이번에 얻은 결과는 좀 더 만족스럽다. 추천 시스템은 다른 Christopher Nolan 영화들을 인식하고 그것을 Top 추천에 놓은 것으로 보인다. (감독에 준 높은 weight때문에) 나는 The Dark Knight 뿐아니라 리스트에 있는 Batman Begins, The Prestige 그리고 The Dark Kngiht Rises를 포함한 다른 것들도 보면서 즐거웠다.\n",
    "\n",
    "\n",
    "우리는 물론 요소(감독, 배우, 장르)에 다른 weight를 시도하고, soup에서 사용되는 keyword의 수를 제한하고, 같은 언어 등의 영화를 보여주며 빈도에 따라 장르의 가중치를 부여할 수 있습니다."
   ]
  },
  {
   "cell_type": "markdown",
   "id": "fundamental-first",
   "metadata": {
    "papermill": {
     "duration": 0.075016,
     "end_time": "2022-05-31T01:26:55.089162",
     "exception": false,
     "start_time": "2022-05-31T01:26:55.014146",
     "status": "completed"
    },
    "tags": []
   },
   "source": [
    "Popularity와 Ratings\n",
    "우리의 추천 시스템에서 주목해야할 점 중 하나는 rating과 popularity에 관계 없이 추천해준다는 것이다. **Batman and Robin**은 **The Dark Kngiht**와 꽤 많이 비슷한 특성을 가지고 있지만 누구에게서도 추천받지 못하는 끔찍한 영화다.\n",
    "\n",
    "그러므로, 우리는 나쁜 영화를 제거하고 유명하고 좋은 비평을 받은 작품을 반환하는 메커니즘을 추가할 것이다.\n",
    "\n",
    "유사도 점수와 영화의 60%의 vote를 계산하여 Top25 영화를 가져올 것이다. 그런 다음 이것을 M의 값으로 사용하여 Simple Recommender 섹션에서 했던 것처럼 IMDB의 공식을 사용하여 각 영화의 가중치 등급을 계산한다."
   ]
  },
  {
   "cell_type": "code",
   "execution_count": 54,
   "id": "romantic-dutch",
   "metadata": {
    "execution": {
     "iopub.execute_input": "2022-05-31T01:26:55.258066Z",
     "iopub.status.busy": "2022-05-31T01:26:55.257113Z",
     "iopub.status.idle": "2022-05-31T01:26:55.260263Z",
     "shell.execute_reply": "2022-05-31T01:26:55.259639Z"
    },
    "papermill": {
     "duration": 0.096136,
     "end_time": "2022-05-31T01:26:55.260394",
     "exception": false,
     "start_time": "2022-05-31T01:26:55.164258",
     "status": "completed"
    },
    "tags": []
   },
   "outputs": [],
   "source": [
    "idx = indices['The Dark Knight']\n",
    "sim_scores = list(enumerate(cosine_sim[idx]))\n",
    "sim_scores = sorted(sim_scores, key = lambda x: x[1], reverse = True)\n",
    "sim_scores = sim_scores[1:26]\n",
    "movie_indices = [i[0] for i in sim_scores]"
   ]
  },
  {
   "cell_type": "code",
   "execution_count": 55,
   "id": "responsible-overhead",
   "metadata": {
    "execution": {
     "iopub.execute_input": "2022-05-31T01:26:55.419327Z",
     "iopub.status.busy": "2022-05-31T01:26:55.418662Z",
     "iopub.status.idle": "2022-05-31T01:26:55.420713Z",
     "shell.execute_reply": "2022-05-31T01:26:55.421191Z"
    },
    "papermill": {
     "duration": 0.085621,
     "end_time": "2022-05-31T01:26:55.421353",
     "exception": false,
     "start_time": "2022-05-31T01:26:55.335732",
     "status": "completed"
    },
    "tags": []
   },
   "outputs": [],
   "source": [
    "def improved_recommendations(title): \n",
    "    movies = smd.iloc[movie_indices][['title', 'vote_count', 'vote_average', 'year']]\n",
    "    vote_counts = movies[movies['vote_count'].notnull()]['vote_count'].astype('int')\n",
    "    vote_averages = movies[movies['vote_average'].notnull()]['vote_average'].astype('int')\n",
    "    C = vote_averages.mean()\n",
    "    m = vote_counts.quantile(0.6)\n",
    "    qualified = movies[(movies['vote_count']>=m)&(movies['vote_count'].notnull())&\n",
    "                (movies['vote_average'].notnull())]\n",
    "    qualified['vote_count'] = qualified['vote_count'].astype('int')\n",
    "    qualified['vote_average'] = qualified['vote_average'].astype('int')\n",
    "    qualified['wr'] = qualified.apply(weighted_rating, axis = 1)\n",
    "    qualified = qualified.sort_values('wr', ascending = False).head(10)\n",
    "    \n",
    "    return qualified"
   ]
  },
  {
   "cell_type": "code",
   "execution_count": 56,
   "id": "arctic-knitting",
   "metadata": {
    "execution": {
     "iopub.execute_input": "2022-05-31T01:26:55.575890Z",
     "iopub.status.busy": "2022-05-31T01:26:55.575267Z",
     "iopub.status.idle": "2022-05-31T01:26:55.601622Z",
     "shell.execute_reply": "2022-05-31T01:26:55.602055Z"
    },
    "papermill": {
     "duration": 0.105598,
     "end_time": "2022-05-31T01:26:55.602217",
     "exception": false,
     "start_time": "2022-05-31T01:26:55.496619",
     "status": "completed"
    },
    "tags": []
   },
   "outputs": [
    {
     "data": {
      "text/html": [
       "<div>\n",
       "<style scoped>\n",
       "    .dataframe tbody tr th:only-of-type {\n",
       "        vertical-align: middle;\n",
       "    }\n",
       "\n",
       "    .dataframe tbody tr th {\n",
       "        vertical-align: top;\n",
       "    }\n",
       "\n",
       "    .dataframe thead th {\n",
       "        text-align: right;\n",
       "    }\n",
       "</style>\n",
       "<table border=\"1\" class=\"dataframe\">\n",
       "  <thead>\n",
       "    <tr style=\"text-align: right;\">\n",
       "      <th></th>\n",
       "      <th>title</th>\n",
       "      <th>vote_count</th>\n",
       "      <th>vote_average</th>\n",
       "      <th>year</th>\n",
       "      <th>wr</th>\n",
       "    </tr>\n",
       "  </thead>\n",
       "  <tbody>\n",
       "    <tr>\n",
       "      <th>7648</th>\n",
       "      <td>Inception</td>\n",
       "      <td>14075</td>\n",
       "      <td>8</td>\n",
       "      <td>2010</td>\n",
       "      <td>7.917588</td>\n",
       "    </tr>\n",
       "    <tr>\n",
       "      <th>8613</th>\n",
       "      <td>Interstellar</td>\n",
       "      <td>11187</td>\n",
       "      <td>8</td>\n",
       "      <td>2014</td>\n",
       "      <td>7.897107</td>\n",
       "    </tr>\n",
       "    <tr>\n",
       "      <th>6623</th>\n",
       "      <td>The Prestige</td>\n",
       "      <td>4510</td>\n",
       "      <td>8</td>\n",
       "      <td>2006</td>\n",
       "      <td>7.758148</td>\n",
       "    </tr>\n",
       "    <tr>\n",
       "      <th>3381</th>\n",
       "      <td>Memento</td>\n",
       "      <td>4168</td>\n",
       "      <td>8</td>\n",
       "      <td>2000</td>\n",
       "      <td>7.740175</td>\n",
       "    </tr>\n",
       "    <tr>\n",
       "      <th>8031</th>\n",
       "      <td>The Dark Knight Rises</td>\n",
       "      <td>9263</td>\n",
       "      <td>7</td>\n",
       "      <td>2012</td>\n",
       "      <td>6.921448</td>\n",
       "    </tr>\n",
       "    <tr>\n",
       "      <th>6218</th>\n",
       "      <td>Batman Begins</td>\n",
       "      <td>7511</td>\n",
       "      <td>7</td>\n",
       "      <td>2005</td>\n",
       "      <td>6.904127</td>\n",
       "    </tr>\n",
       "    <tr>\n",
       "      <th>524</th>\n",
       "      <td>Batman</td>\n",
       "      <td>2145</td>\n",
       "      <td>7</td>\n",
       "      <td>1989</td>\n",
       "      <td>6.704647</td>\n",
       "    </tr>\n",
       "    <tr>\n",
       "      <th>6622</th>\n",
       "      <td>Children of Men</td>\n",
       "      <td>2120</td>\n",
       "      <td>7</td>\n",
       "      <td>2006</td>\n",
       "      <td>6.701756</td>\n",
       "    </tr>\n",
       "    <tr>\n",
       "      <th>8419</th>\n",
       "      <td>Man of Steel</td>\n",
       "      <td>6462</td>\n",
       "      <td>6</td>\n",
       "      <td>2013</td>\n",
       "      <td>5.952478</td>\n",
       "    </tr>\n",
       "    <tr>\n",
       "      <th>9024</th>\n",
       "      <td>Batman v Superman: Dawn of Justice</td>\n",
       "      <td>7189</td>\n",
       "      <td>5</td>\n",
       "      <td>2016</td>\n",
       "      <td>5.013943</td>\n",
       "    </tr>\n",
       "  </tbody>\n",
       "</table>\n",
       "</div>"
      ],
      "text/plain": [
       "                                   title  vote_count  vote_average  year  \\\n",
       "7648                           Inception       14075             8  2010   \n",
       "8613                        Interstellar       11187             8  2014   \n",
       "6623                        The Prestige        4510             8  2006   \n",
       "3381                             Memento        4168             8  2000   \n",
       "8031               The Dark Knight Rises        9263             7  2012   \n",
       "6218                       Batman Begins        7511             7  2005   \n",
       "524                               Batman        2145             7  1989   \n",
       "6622                     Children of Men        2120             7  2006   \n",
       "8419                        Man of Steel        6462             6  2013   \n",
       "9024  Batman v Superman: Dawn of Justice        7189             5  2016   \n",
       "\n",
       "            wr  \n",
       "7648  7.917588  \n",
       "8613  7.897107  \n",
       "6623  7.758148  \n",
       "3381  7.740175  \n",
       "8031  6.921448  \n",
       "6218  6.904127  \n",
       "524   6.704647  \n",
       "6622  6.701756  \n",
       "8419  5.952478  \n",
       "9024  5.013943  "
      ]
     },
     "execution_count": 56,
     "metadata": {},
     "output_type": "execute_result"
    }
   ],
   "source": [
    "improved_recommendations('The Dark Knight')"
   ]
  },
  {
   "cell_type": "markdown",
   "id": "danish-vitamin",
   "metadata": {
    "papermill": {
     "duration": 0.076082,
     "end_time": "2022-05-31T01:26:55.754731",
     "exception": false,
     "start_time": "2022-05-31T01:26:55.678649",
     "status": "completed"
    },
    "tags": []
   },
   "source": [
    "불행하게도, **Batman and Robin**은 우리의 추천 목록에서 사라지지 않았다.\n",
    "이는 TMDB에서 평균보다 약간 낮은 4등급이라는 사실 때문일 것이다. 이것은 확실히 이 놀라운 **The Dark Knight**가 오직 7점뿐이기에 4점을 받을 자격이 없다.\n",
    " 하지만 우리가 이것에 대해 할 수 있는게 없다. 그러므로, 우리는 Content Based Recommender 섹션을 여기서 마치고 hybrid engine을 만들 때 돌아오자"
   ]
  },
  {
   "cell_type": "markdown",
   "id": "temporal-bloom",
   "metadata": {
    "papermill": {
     "duration": 0.075997,
     "end_time": "2022-05-31T01:26:55.909308",
     "exception": false,
     "start_time": "2022-05-31T01:26:55.833311",
     "status": "completed"
    },
    "tags": []
   },
   "source": [
    "## Collaborative Filtering\n",
    "우리의 content based engine은 몇가지 제한을 가지고 있다. 특정 영화와 가까운 영화만 제한할 수 있다. 즉, 취향을 포착하고 장르 전반에 걸쳐 추천을 제공할 수 없다. \n",
    "\n",
    "\n",
    "또한, 우리가 만든 그 engine은 사용자의 개인적인 취향과 편향을 포착하지 않는다는 점에서 실제로도 개인적인 것이 아니다. 영화에 기반을 한 추천을 위해 엔진을 쿼리하는 사람은 그 사람이 누구인지에 대해 관계 없이 해당 영화에 대한 동일한 추천을 받게 된다.\n",
    "\n",
    "그러므로, 이번 섹션에서 우리는 **Collaborative Filtering**이라고 불리는 기술을 사용하여 영화 관람객들에게 추천을 해보자. Collaborative Filtering은 나와 비슷한 사용자가 사용 / 경험한 특정 제품 또는 서비스를 얼마나 좋아할 지 예측하는 데 사용할 수 있다는 생각을 기반으로 만들어졌다. \n",
    "\n",
    "처음부터 Collaborative Filtering을 구현하지는 않을 것이다. 대신 RMSE를 최소화시켜주고 훌륭한 추천을 주는 **SVD**와 같은 강력한 알고리즘을 사용한 **Surprise** library를 사용할 것이다."
   ]
  },
  {
   "cell_type": "code",
   "execution_count": 57,
   "id": "presidential-sampling",
   "metadata": {
    "execution": {
     "iopub.execute_input": "2022-05-31T01:26:56.065815Z",
     "iopub.status.busy": "2022-05-31T01:26:56.065204Z",
     "iopub.status.idle": "2022-05-31T01:26:56.068459Z",
     "shell.execute_reply": "2022-05-31T01:26:56.068957Z"
    },
    "papermill": {
     "duration": 0.083764,
     "end_time": "2022-05-31T01:26:56.069114",
     "exception": false,
     "start_time": "2022-05-31T01:26:55.985350",
     "status": "completed"
    },
    "tags": []
   },
   "outputs": [],
   "source": [
    "reader = Reader()"
   ]
  },
  {
   "cell_type": "code",
   "execution_count": 58,
   "id": "greater-fisher",
   "metadata": {
    "execution": {
     "iopub.execute_input": "2022-05-31T01:26:56.224531Z",
     "iopub.status.busy": "2022-05-31T01:26:56.223905Z",
     "iopub.status.idle": "2022-05-31T01:26:56.318974Z",
     "shell.execute_reply": "2022-05-31T01:26:56.319551Z"
    },
    "papermill": {
     "duration": 0.1744,
     "end_time": "2022-05-31T01:26:56.319731",
     "exception": false,
     "start_time": "2022-05-31T01:26:56.145331",
     "status": "completed"
    },
    "tags": []
   },
   "outputs": [
    {
     "data": {
      "text/html": [
       "<div>\n",
       "<style scoped>\n",
       "    .dataframe tbody tr th:only-of-type {\n",
       "        vertical-align: middle;\n",
       "    }\n",
       "\n",
       "    .dataframe tbody tr th {\n",
       "        vertical-align: top;\n",
       "    }\n",
       "\n",
       "    .dataframe thead th {\n",
       "        text-align: right;\n",
       "    }\n",
       "</style>\n",
       "<table border=\"1\" class=\"dataframe\">\n",
       "  <thead>\n",
       "    <tr style=\"text-align: right;\">\n",
       "      <th></th>\n",
       "      <th>userId</th>\n",
       "      <th>movieId</th>\n",
       "      <th>rating</th>\n",
       "      <th>timestamp</th>\n",
       "    </tr>\n",
       "  </thead>\n",
       "  <tbody>\n",
       "    <tr>\n",
       "      <th>0</th>\n",
       "      <td>1</td>\n",
       "      <td>31</td>\n",
       "      <td>2.5</td>\n",
       "      <td>1260759144</td>\n",
       "    </tr>\n",
       "    <tr>\n",
       "      <th>1</th>\n",
       "      <td>1</td>\n",
       "      <td>1029</td>\n",
       "      <td>3.0</td>\n",
       "      <td>1260759179</td>\n",
       "    </tr>\n",
       "    <tr>\n",
       "      <th>2</th>\n",
       "      <td>1</td>\n",
       "      <td>1061</td>\n",
       "      <td>3.0</td>\n",
       "      <td>1260759182</td>\n",
       "    </tr>\n",
       "    <tr>\n",
       "      <th>3</th>\n",
       "      <td>1</td>\n",
       "      <td>1129</td>\n",
       "      <td>2.0</td>\n",
       "      <td>1260759185</td>\n",
       "    </tr>\n",
       "    <tr>\n",
       "      <th>4</th>\n",
       "      <td>1</td>\n",
       "      <td>1172</td>\n",
       "      <td>4.0</td>\n",
       "      <td>1260759205</td>\n",
       "    </tr>\n",
       "  </tbody>\n",
       "</table>\n",
       "</div>"
      ],
      "text/plain": [
       "   userId  movieId  rating   timestamp\n",
       "0       1       31     2.5  1260759144\n",
       "1       1     1029     3.0  1260759179\n",
       "2       1     1061     3.0  1260759182\n",
       "3       1     1129     2.0  1260759185\n",
       "4       1     1172     4.0  1260759205"
      ]
     },
     "execution_count": 58,
     "metadata": {},
     "output_type": "execute_result"
    }
   ],
   "source": [
    "ratings = pd.read_csv('../input/the-movies-dataset/ratings_small.csv')\n",
    "ratings.head()"
   ]
  },
  {
   "cell_type": "code",
   "execution_count": 59,
   "id": "excessive-classroom",
   "metadata": {
    "execution": {
     "iopub.execute_input": "2022-05-31T01:26:56.473666Z",
     "iopub.status.busy": "2022-05-31T01:26:56.473079Z",
     "iopub.status.idle": "2022-05-31T01:28:39.818603Z",
     "shell.execute_reply": "2022-05-31T01:28:39.818069Z"
    },
    "papermill": {
     "duration": 103.423428,
     "end_time": "2022-05-31T01:28:39.818745",
     "exception": false,
     "start_time": "2022-05-31T01:26:56.395317",
     "status": "completed"
    },
    "tags": []
   },
   "outputs": [
    {
     "name": "stdout",
     "output_type": "stream",
     "text": [
      "Evaluating RMSE, MAE of algorithm SVD on 10 split(s).\n",
      "\n",
      "                  Fold 1  Fold 2  Fold 3  Fold 4  Fold 5  Fold 6  Fold 7  Fold 8  Fold 9  Fold 10 Mean    Std     \n",
      "RMSE (testset)    0.8914  0.8918  0.8861  0.8835  0.8886  0.9036  0.8903  0.8947  0.8865  0.8931  0.8910  0.0053  \n",
      "MAE (testset)     0.6890  0.6843  0.6814  0.6788  0.6824  0.6895  0.6890  0.6883  0.6882  0.6869  0.6858  0.0036  \n",
      "Fit time          9.95    10.12   9.94    9.91    9.99    9.96    10.01   10.03   9.98    9.94    9.98    0.06    \n",
      "Test time         0.11    0.10    0.10    0.10    0.10    0.10    0.11    0.10    0.10    0.10    0.10    0.00    \n"
     ]
    },
    {
     "data": {
      "text/plain": [
       "{'test_rmse': array([0.89138804, 0.89183635, 0.88614623, 0.88352331, 0.88861029,\n",
       "        0.90359918, 0.8902604 , 0.89470082, 0.88647499, 0.89312209]),\n",
       " 'test_mae': array([0.68901444, 0.68430754, 0.68142662, 0.67884031, 0.68243101,\n",
       "        0.68948616, 0.6890358 , 0.68830809, 0.68823265, 0.68685566]),\n",
       " 'fit_time': (9.953301191329956,\n",
       "  10.123114347457886,\n",
       "  9.944744110107422,\n",
       "  9.90552568435669,\n",
       "  9.991703987121582,\n",
       "  9.960370779037476,\n",
       "  10.006992101669312,\n",
       "  10.029311180114746,\n",
       "  9.980653285980225,\n",
       "  9.941281080245972),\n",
       " 'test_time': (0.10543346405029297,\n",
       "  0.10295701026916504,\n",
       "  0.10406255722045898,\n",
       "  0.10489201545715332,\n",
       "  0.1047518253326416,\n",
       "  0.10451936721801758,\n",
       "  0.10583281517028809,\n",
       "  0.1037759780883789,\n",
       "  0.10432934761047363,\n",
       "  0.1043701171875)}"
      ]
     },
     "execution_count": 59,
     "metadata": {},
     "output_type": "execute_result"
    }
   ],
   "source": [
    "data = Dataset.load_from_df(ratings[['userId', 'movieId', 'rating']], reader)\n",
    "\n",
    "svd = SVD()\n",
    "cross_validate(svd, data, measures=['RMSE', 'MAE'], cv=10, verbose=True)"
   ]
  },
  {
   "cell_type": "markdown",
   "id": "dutch-globe",
   "metadata": {
    "papermill": {
     "duration": 0.079027,
     "end_time": "2022-05-31T01:28:39.977985",
     "exception": false,
     "start_time": "2022-05-31T01:28:39.898958",
     "status": "completed"
    },
    "tags": []
   },
   "source": [
    "우리는 RMSE 0.9020를 얻었다. 이는 우리의 케이스에 충분하다. 우리의 데이터셋을 훈련시키고 예측해보자"
   ]
  },
  {
   "cell_type": "code",
   "execution_count": 60,
   "id": "drawn-latitude",
   "metadata": {
    "execution": {
     "iopub.execute_input": "2022-05-31T01:28:40.139989Z",
     "iopub.status.busy": "2022-05-31T01:28:40.139357Z",
     "iopub.status.idle": "2022-05-31T01:28:51.157690Z",
     "shell.execute_reply": "2022-05-31T01:28:51.156926Z"
    },
    "papermill": {
     "duration": 11.100915,
     "end_time": "2022-05-31T01:28:51.157837",
     "exception": false,
     "start_time": "2022-05-31T01:28:40.056922",
     "status": "completed"
    },
    "tags": []
   },
   "outputs": [
    {
     "data": {
      "text/plain": [
       "<surprise.prediction_algorithms.matrix_factorization.SVD at 0x7ff4758d9390>"
      ]
     },
     "execution_count": 60,
     "metadata": {},
     "output_type": "execute_result"
    }
   ],
   "source": [
    "trainset = data.build_full_trainset()\n",
    "svd.fit(trainset)"
   ]
  },
  {
   "cell_type": "markdown",
   "id": "athletic-participation",
   "metadata": {
    "papermill": {
     "duration": 0.080817,
     "end_time": "2022-05-31T01:28:51.321745",
     "exception": false,
     "start_time": "2022-05-31T01:28:51.240928",
     "status": "completed"
    },
    "tags": []
   },
   "source": [
    "이제 유저를 골라서 그가 준 rating을 체크해보자"
   ]
  },
  {
   "cell_type": "code",
   "execution_count": 61,
   "id": "fuzzy-natural",
   "metadata": {
    "execution": {
     "iopub.execute_input": "2022-05-31T01:28:51.493858Z",
     "iopub.status.busy": "2022-05-31T01:28:51.492061Z",
     "iopub.status.idle": "2022-05-31T01:28:51.506245Z",
     "shell.execute_reply": "2022-05-31T01:28:51.506896Z"
    },
    "papermill": {
     "duration": 0.101252,
     "end_time": "2022-05-31T01:28:51.507081",
     "exception": false,
     "start_time": "2022-05-31T01:28:51.405829",
     "status": "completed"
    },
    "tags": []
   },
   "outputs": [
    {
     "data": {
      "text/html": [
       "<div>\n",
       "<style scoped>\n",
       "    .dataframe tbody tr th:only-of-type {\n",
       "        vertical-align: middle;\n",
       "    }\n",
       "\n",
       "    .dataframe tbody tr th {\n",
       "        vertical-align: top;\n",
       "    }\n",
       "\n",
       "    .dataframe thead th {\n",
       "        text-align: right;\n",
       "    }\n",
       "</style>\n",
       "<table border=\"1\" class=\"dataframe\">\n",
       "  <thead>\n",
       "    <tr style=\"text-align: right;\">\n",
       "      <th></th>\n",
       "      <th>userId</th>\n",
       "      <th>movieId</th>\n",
       "      <th>rating</th>\n",
       "      <th>timestamp</th>\n",
       "    </tr>\n",
       "  </thead>\n",
       "  <tbody>\n",
       "    <tr>\n",
       "      <th>0</th>\n",
       "      <td>1</td>\n",
       "      <td>31</td>\n",
       "      <td>2.5</td>\n",
       "      <td>1260759144</td>\n",
       "    </tr>\n",
       "    <tr>\n",
       "      <th>1</th>\n",
       "      <td>1</td>\n",
       "      <td>1029</td>\n",
       "      <td>3.0</td>\n",
       "      <td>1260759179</td>\n",
       "    </tr>\n",
       "    <tr>\n",
       "      <th>2</th>\n",
       "      <td>1</td>\n",
       "      <td>1061</td>\n",
       "      <td>3.0</td>\n",
       "      <td>1260759182</td>\n",
       "    </tr>\n",
       "    <tr>\n",
       "      <th>3</th>\n",
       "      <td>1</td>\n",
       "      <td>1129</td>\n",
       "      <td>2.0</td>\n",
       "      <td>1260759185</td>\n",
       "    </tr>\n",
       "    <tr>\n",
       "      <th>4</th>\n",
       "      <td>1</td>\n",
       "      <td>1172</td>\n",
       "      <td>4.0</td>\n",
       "      <td>1260759205</td>\n",
       "    </tr>\n",
       "    <tr>\n",
       "      <th>5</th>\n",
       "      <td>1</td>\n",
       "      <td>1263</td>\n",
       "      <td>2.0</td>\n",
       "      <td>1260759151</td>\n",
       "    </tr>\n",
       "    <tr>\n",
       "      <th>6</th>\n",
       "      <td>1</td>\n",
       "      <td>1287</td>\n",
       "      <td>2.0</td>\n",
       "      <td>1260759187</td>\n",
       "    </tr>\n",
       "    <tr>\n",
       "      <th>7</th>\n",
       "      <td>1</td>\n",
       "      <td>1293</td>\n",
       "      <td>2.0</td>\n",
       "      <td>1260759148</td>\n",
       "    </tr>\n",
       "    <tr>\n",
       "      <th>8</th>\n",
       "      <td>1</td>\n",
       "      <td>1339</td>\n",
       "      <td>3.5</td>\n",
       "      <td>1260759125</td>\n",
       "    </tr>\n",
       "    <tr>\n",
       "      <th>9</th>\n",
       "      <td>1</td>\n",
       "      <td>1343</td>\n",
       "      <td>2.0</td>\n",
       "      <td>1260759131</td>\n",
       "    </tr>\n",
       "    <tr>\n",
       "      <th>10</th>\n",
       "      <td>1</td>\n",
       "      <td>1371</td>\n",
       "      <td>2.5</td>\n",
       "      <td>1260759135</td>\n",
       "    </tr>\n",
       "    <tr>\n",
       "      <th>11</th>\n",
       "      <td>1</td>\n",
       "      <td>1405</td>\n",
       "      <td>1.0</td>\n",
       "      <td>1260759203</td>\n",
       "    </tr>\n",
       "    <tr>\n",
       "      <th>12</th>\n",
       "      <td>1</td>\n",
       "      <td>1953</td>\n",
       "      <td>4.0</td>\n",
       "      <td>1260759191</td>\n",
       "    </tr>\n",
       "    <tr>\n",
       "      <th>13</th>\n",
       "      <td>1</td>\n",
       "      <td>2105</td>\n",
       "      <td>4.0</td>\n",
       "      <td>1260759139</td>\n",
       "    </tr>\n",
       "    <tr>\n",
       "      <th>14</th>\n",
       "      <td>1</td>\n",
       "      <td>2150</td>\n",
       "      <td>3.0</td>\n",
       "      <td>1260759194</td>\n",
       "    </tr>\n",
       "    <tr>\n",
       "      <th>15</th>\n",
       "      <td>1</td>\n",
       "      <td>2193</td>\n",
       "      <td>2.0</td>\n",
       "      <td>1260759198</td>\n",
       "    </tr>\n",
       "    <tr>\n",
       "      <th>16</th>\n",
       "      <td>1</td>\n",
       "      <td>2294</td>\n",
       "      <td>2.0</td>\n",
       "      <td>1260759108</td>\n",
       "    </tr>\n",
       "    <tr>\n",
       "      <th>17</th>\n",
       "      <td>1</td>\n",
       "      <td>2455</td>\n",
       "      <td>2.5</td>\n",
       "      <td>1260759113</td>\n",
       "    </tr>\n",
       "    <tr>\n",
       "      <th>18</th>\n",
       "      <td>1</td>\n",
       "      <td>2968</td>\n",
       "      <td>1.0</td>\n",
       "      <td>1260759200</td>\n",
       "    </tr>\n",
       "    <tr>\n",
       "      <th>19</th>\n",
       "      <td>1</td>\n",
       "      <td>3671</td>\n",
       "      <td>3.0</td>\n",
       "      <td>1260759117</td>\n",
       "    </tr>\n",
       "  </tbody>\n",
       "</table>\n",
       "</div>"
      ],
      "text/plain": [
       "    userId  movieId  rating   timestamp\n",
       "0        1       31     2.5  1260759144\n",
       "1        1     1029     3.0  1260759179\n",
       "2        1     1061     3.0  1260759182\n",
       "3        1     1129     2.0  1260759185\n",
       "4        1     1172     4.0  1260759205\n",
       "5        1     1263     2.0  1260759151\n",
       "6        1     1287     2.0  1260759187\n",
       "7        1     1293     2.0  1260759148\n",
       "8        1     1339     3.5  1260759125\n",
       "9        1     1343     2.0  1260759131\n",
       "10       1     1371     2.5  1260759135\n",
       "11       1     1405     1.0  1260759203\n",
       "12       1     1953     4.0  1260759191\n",
       "13       1     2105     4.0  1260759139\n",
       "14       1     2150     3.0  1260759194\n",
       "15       1     2193     2.0  1260759198\n",
       "16       1     2294     2.0  1260759108\n",
       "17       1     2455     2.5  1260759113\n",
       "18       1     2968     1.0  1260759200\n",
       "19       1     3671     3.0  1260759117"
      ]
     },
     "execution_count": 61,
     "metadata": {},
     "output_type": "execute_result"
    }
   ],
   "source": [
    "ratings[ratings['userId'] == 1]"
   ]
  },
  {
   "cell_type": "code",
   "execution_count": 62,
   "id": "modern-stuff",
   "metadata": {
    "execution": {
     "iopub.execute_input": "2022-05-31T01:28:51.679033Z",
     "iopub.status.busy": "2022-05-31T01:28:51.678344Z",
     "iopub.status.idle": "2022-05-31T01:28:51.683897Z",
     "shell.execute_reply": "2022-05-31T01:28:51.684521Z"
    },
    "papermill": {
     "duration": 0.093178,
     "end_time": "2022-05-31T01:28:51.684708",
     "exception": false,
     "start_time": "2022-05-31T01:28:51.591530",
     "status": "completed"
    },
    "tags": []
   },
   "outputs": [
    {
     "data": {
      "text/plain": [
       "Prediction(uid=1, iid=302, r_ui=3, est=2.568277351069606, details={'was_impossible': False})"
      ]
     },
     "execution_count": 62,
     "metadata": {},
     "output_type": "execute_result"
    }
   ],
   "source": [
    "svd.predict(1, 302, 3)"
   ]
  },
  {
   "cell_type": "markdown",
   "id": "super-jewelry",
   "metadata": {
    "papermill": {
     "duration": 0.089465,
     "end_time": "2022-05-31T01:28:51.857689",
     "exception": false,
     "start_time": "2022-05-31T01:28:51.768224",
     "status": "completed"
    },
    "tags": []
   },
   "source": [
    "Movie ID 302에 대해, 우리는 추정치 2.51을 예측했다. 이 추천 시스템의 놀라운 기능 중 하나는 영화가 무엇인지 (또는 포함 된 내용) 상관하지 않는다는 것입니다. 순전히 할당 된 영화 ID를 기반으로 작동하며 다른 사용자가 어떻게 영화를 매겼는지에 따라 예측하려고 합니다."
   ]
  },
  {
   "cell_type": "markdown",
   "id": "other-greece",
   "metadata": {
    "papermill": {
     "duration": 0.079222,
     "end_time": "2022-05-31T01:28:52.016091",
     "exception": false,
     "start_time": "2022-05-31T01:28:51.936869",
     "status": "completed"
    },
    "tags": []
   },
   "source": [
    "## Hybrid Recommender"
   ]
  },
  {
   "cell_type": "markdown",
   "id": "apparent-baltimore",
   "metadata": {
    "papermill": {
     "duration": 0.081973,
     "end_time": "2022-05-31T01:28:52.182005",
     "exception": false,
     "start_time": "2022-05-31T01:28:52.100032",
     "status": "completed"
    },
    "tags": []
   },
   "source": [
    "이번 섹션에서는, 이전에 시도했던 content based와 collaboraitve filter based 엔진을 이용한 기술들로 간단한 hybrid 추천 시스템을 개발할 것이다.\n",
    "이것은 작업이 어떻게 이루어지는가이다 : \n",
    "* **Input** : User ID와 영화의 제목\n",
    "* **Output** : 특정한 유저에 예상 등급을 기준으로 유사한 영화의 정렬"
   ]
  },
  {
   "cell_type": "code",
   "execution_count": 63,
   "id": "brutal-mexico",
   "metadata": {
    "execution": {
     "iopub.execute_input": "2022-05-31T01:28:52.345455Z",
     "iopub.status.busy": "2022-05-31T01:28:52.344829Z",
     "iopub.status.idle": "2022-05-31T01:28:52.348414Z",
     "shell.execute_reply": "2022-05-31T01:28:52.348932Z"
    },
    "papermill": {
     "duration": 0.087546,
     "end_time": "2022-05-31T01:28:52.349093",
     "exception": false,
     "start_time": "2022-05-31T01:28:52.261547",
     "status": "completed"
    },
    "tags": []
   },
   "outputs": [],
   "source": [
    "def convert_int(x):\n",
    "    try:\n",
    "        return int(x)\n",
    "    \n",
    "    except:\n",
    "        return np.nan"
   ]
  },
  {
   "cell_type": "code",
   "execution_count": 64,
   "id": "european-spread",
   "metadata": {
    "execution": {
     "iopub.execute_input": "2022-05-31T01:28:52.514309Z",
     "iopub.status.busy": "2022-05-31T01:28:52.513712Z",
     "iopub.status.idle": "2022-05-31T01:28:52.548567Z",
     "shell.execute_reply": "2022-05-31T01:28:52.549082Z"
    },
    "papermill": {
     "duration": 0.118727,
     "end_time": "2022-05-31T01:28:52.549252",
     "exception": false,
     "start_time": "2022-05-31T01:28:52.430525",
     "status": "completed"
    },
    "tags": []
   },
   "outputs": [],
   "source": [
    "id_map = pd.read_csv('../input/the-movies-dataset/links_small.csv')[['movieId', 'tmdbId']]\n",
    "id_map['tmdbId'] = id_map['tmdbId'].apply(convert_int)\n",
    "id_map.columns = ['movieId', 'id']\n",
    "id_map = id_map.merge(smd[['title', 'id']], on = 'id').set_index('title')"
   ]
  },
  {
   "cell_type": "code",
   "execution_count": 65,
   "id": "prescribed-stamp",
   "metadata": {
    "execution": {
     "iopub.execute_input": "2022-05-31T01:28:52.712822Z",
     "iopub.status.busy": "2022-05-31T01:28:52.712210Z",
     "iopub.status.idle": "2022-05-31T01:28:52.717432Z",
     "shell.execute_reply": "2022-05-31T01:28:52.716817Z"
    },
    "papermill": {
     "duration": 0.087376,
     "end_time": "2022-05-31T01:28:52.717576",
     "exception": false,
     "start_time": "2022-05-31T01:28:52.630200",
     "status": "completed"
    },
    "tags": []
   },
   "outputs": [],
   "source": [
    "indices_map = id_map.set_index('id')"
   ]
  },
  {
   "cell_type": "code",
   "execution_count": 66,
   "id": "included-vegetable",
   "metadata": {
    "execution": {
     "iopub.execute_input": "2022-05-31T01:28:52.889258Z",
     "iopub.status.busy": "2022-05-31T01:28:52.888519Z",
     "iopub.status.idle": "2022-05-31T01:28:52.891504Z",
     "shell.execute_reply": "2022-05-31T01:28:52.890976Z"
    },
    "papermill": {
     "duration": 0.093923,
     "end_time": "2022-05-31T01:28:52.891640",
     "exception": false,
     "start_time": "2022-05-31T01:28:52.797717",
     "status": "completed"
    },
    "tags": []
   },
   "outputs": [],
   "source": [
    "def hybrid(userId, title):\n",
    "    idx = indices[title]\n",
    "    tmdbId = id_map.loc[title]['id']\n",
    "    movie_id = id_map.loc[title]['movieId']\n",
    "    \n",
    "    # content based\n",
    "    sim_scores = list(enumerate(cosine_sim[int(idx)]))\n",
    "    sim_scores = sorted(sim_scores, key=lambda x: x[1], reverse=True)\n",
    "    sim_scores = sim_scores[1:26]\n",
    "    movie_indices = [i[0] for i in sim_scores]\n",
    "        \n",
    "    movies = smd.iloc[movie_indices][['title', 'vote_count', 'vote_average', 'year', 'id']]\n",
    "    # collaborative\n",
    "    movies['est'] = movies['id'].apply(lambda x: svd.predict(userId, indices_map.loc[x]['movieId']).est)\n",
    "    movies = movies.sort_values('est', ascending=False)\n",
    "    return movies.head(10)"
   ]
  },
  {
   "cell_type": "code",
   "execution_count": 67,
   "id": "european-pitch",
   "metadata": {
    "execution": {
     "iopub.execute_input": "2022-05-31T01:28:53.073712Z",
     "iopub.status.busy": "2022-05-31T01:28:53.073062Z",
     "iopub.status.idle": "2022-05-31T01:28:53.093867Z",
     "shell.execute_reply": "2022-05-31T01:28:53.093267Z"
    },
    "papermill": {
     "duration": 0.122934,
     "end_time": "2022-05-31T01:28:53.094012",
     "exception": false,
     "start_time": "2022-05-31T01:28:52.971078",
     "status": "completed"
    },
    "tags": []
   },
   "outputs": [
    {
     "data": {
      "text/html": [
       "<div>\n",
       "<style scoped>\n",
       "    .dataframe tbody tr th:only-of-type {\n",
       "        vertical-align: middle;\n",
       "    }\n",
       "\n",
       "    .dataframe tbody tr th {\n",
       "        vertical-align: top;\n",
       "    }\n",
       "\n",
       "    .dataframe thead th {\n",
       "        text-align: right;\n",
       "    }\n",
       "</style>\n",
       "<table border=\"1\" class=\"dataframe\">\n",
       "  <thead>\n",
       "    <tr style=\"text-align: right;\">\n",
       "      <th></th>\n",
       "      <th>title</th>\n",
       "      <th>vote_count</th>\n",
       "      <th>vote_average</th>\n",
       "      <th>year</th>\n",
       "      <th>id</th>\n",
       "      <th>est</th>\n",
       "    </tr>\n",
       "  </thead>\n",
       "  <tbody>\n",
       "    <tr>\n",
       "      <th>8712</th>\n",
       "      <td>Guardians of the Galaxy</td>\n",
       "      <td>10014.0</td>\n",
       "      <td>7.9</td>\n",
       "      <td>2014</td>\n",
       "      <td>118340</td>\n",
       "      <td>3.251037</td>\n",
       "    </tr>\n",
       "    <tr>\n",
       "      <th>1011</th>\n",
       "      <td>The Terminator</td>\n",
       "      <td>4208.0</td>\n",
       "      <td>7.4</td>\n",
       "      <td>1984</td>\n",
       "      <td>218</td>\n",
       "      <td>3.116204</td>\n",
       "    </tr>\n",
       "    <tr>\n",
       "      <th>974</th>\n",
       "      <td>Aliens</td>\n",
       "      <td>3282.0</td>\n",
       "      <td>7.7</td>\n",
       "      <td>1986</td>\n",
       "      <td>679</td>\n",
       "      <td>3.045930</td>\n",
       "    </tr>\n",
       "    <tr>\n",
       "      <th>8658</th>\n",
       "      <td>X-Men: Days of Future Past</td>\n",
       "      <td>6155.0</td>\n",
       "      <td>7.5</td>\n",
       "      <td>2014</td>\n",
       "      <td>127585</td>\n",
       "      <td>3.031497</td>\n",
       "    </tr>\n",
       "    <tr>\n",
       "      <th>8401</th>\n",
       "      <td>Star Trek Into Darkness</td>\n",
       "      <td>4479.0</td>\n",
       "      <td>7.4</td>\n",
       "      <td>2013</td>\n",
       "      <td>54138</td>\n",
       "      <td>3.001068</td>\n",
       "    </tr>\n",
       "    <tr>\n",
       "      <th>987</th>\n",
       "      <td>Alien</td>\n",
       "      <td>4564.0</td>\n",
       "      <td>7.9</td>\n",
       "      <td>1979</td>\n",
       "      <td>348</td>\n",
       "      <td>2.959553</td>\n",
       "    </tr>\n",
       "    <tr>\n",
       "      <th>522</th>\n",
       "      <td>Terminator 2: Judgment Day</td>\n",
       "      <td>4274.0</td>\n",
       "      <td>7.7</td>\n",
       "      <td>1991</td>\n",
       "      <td>280</td>\n",
       "      <td>2.856413</td>\n",
       "    </tr>\n",
       "    <tr>\n",
       "      <th>1668</th>\n",
       "      <td>Return from Witch Mountain</td>\n",
       "      <td>38.0</td>\n",
       "      <td>5.6</td>\n",
       "      <td>1978</td>\n",
       "      <td>14822</td>\n",
       "      <td>2.735318</td>\n",
       "    </tr>\n",
       "    <tr>\n",
       "      <th>344</th>\n",
       "      <td>True Lies</td>\n",
       "      <td>1138.0</td>\n",
       "      <td>6.8</td>\n",
       "      <td>1994</td>\n",
       "      <td>36955</td>\n",
       "      <td>2.733984</td>\n",
       "    </tr>\n",
       "    <tr>\n",
       "      <th>922</th>\n",
       "      <td>The Abyss</td>\n",
       "      <td>822.0</td>\n",
       "      <td>7.1</td>\n",
       "      <td>1989</td>\n",
       "      <td>2756</td>\n",
       "      <td>2.668469</td>\n",
       "    </tr>\n",
       "  </tbody>\n",
       "</table>\n",
       "</div>"
      ],
      "text/plain": [
       "                           title  vote_count  vote_average  year      id  \\\n",
       "8712     Guardians of the Galaxy     10014.0           7.9  2014  118340   \n",
       "1011              The Terminator      4208.0           7.4  1984     218   \n",
       "974                       Aliens      3282.0           7.7  1986     679   \n",
       "8658  X-Men: Days of Future Past      6155.0           7.5  2014  127585   \n",
       "8401     Star Trek Into Darkness      4479.0           7.4  2013   54138   \n",
       "987                        Alien      4564.0           7.9  1979     348   \n",
       "522   Terminator 2: Judgment Day      4274.0           7.7  1991     280   \n",
       "1668  Return from Witch Mountain        38.0           5.6  1978   14822   \n",
       "344                    True Lies      1138.0           6.8  1994   36955   \n",
       "922                    The Abyss       822.0           7.1  1989    2756   \n",
       "\n",
       "           est  \n",
       "8712  3.251037  \n",
       "1011  3.116204  \n",
       "974   3.045930  \n",
       "8658  3.031497  \n",
       "8401  3.001068  \n",
       "987   2.959553  \n",
       "522   2.856413  \n",
       "1668  2.735318  \n",
       "344   2.733984  \n",
       "922   2.668469  "
      ]
     },
     "execution_count": 67,
     "metadata": {},
     "output_type": "execute_result"
    }
   ],
   "source": [
    "hybrid(1, 'Avatar')"
   ]
  },
  {
   "cell_type": "code",
   "execution_count": 68,
   "id": "municipal-charge",
   "metadata": {
    "execution": {
     "iopub.execute_input": "2022-05-31T01:28:53.274769Z",
     "iopub.status.busy": "2022-05-31T01:28:53.273250Z",
     "iopub.status.idle": "2022-05-31T01:28:53.295258Z",
     "shell.execute_reply": "2022-05-31T01:28:53.294767Z"
    },
    "papermill": {
     "duration": 0.120785,
     "end_time": "2022-05-31T01:28:53.295382",
     "exception": false,
     "start_time": "2022-05-31T01:28:53.174597",
     "status": "completed"
    },
    "tags": []
   },
   "outputs": [
    {
     "data": {
      "text/html": [
       "<div>\n",
       "<style scoped>\n",
       "    .dataframe tbody tr th:only-of-type {\n",
       "        vertical-align: middle;\n",
       "    }\n",
       "\n",
       "    .dataframe tbody tr th {\n",
       "        vertical-align: top;\n",
       "    }\n",
       "\n",
       "    .dataframe thead th {\n",
       "        text-align: right;\n",
       "    }\n",
       "</style>\n",
       "<table border=\"1\" class=\"dataframe\">\n",
       "  <thead>\n",
       "    <tr style=\"text-align: right;\">\n",
       "      <th></th>\n",
       "      <th>title</th>\n",
       "      <th>vote_count</th>\n",
       "      <th>vote_average</th>\n",
       "      <th>year</th>\n",
       "      <th>id</th>\n",
       "      <th>est</th>\n",
       "    </tr>\n",
       "  </thead>\n",
       "  <tbody>\n",
       "    <tr>\n",
       "      <th>8712</th>\n",
       "      <td>Guardians of the Galaxy</td>\n",
       "      <td>10014.0</td>\n",
       "      <td>7.9</td>\n",
       "      <td>2014</td>\n",
       "      <td>118340</td>\n",
       "      <td>3.407659</td>\n",
       "    </tr>\n",
       "    <tr>\n",
       "      <th>1376</th>\n",
       "      <td>Titanic</td>\n",
       "      <td>7770.0</td>\n",
       "      <td>7.5</td>\n",
       "      <td>1997</td>\n",
       "      <td>597</td>\n",
       "      <td>3.399113</td>\n",
       "    </tr>\n",
       "    <tr>\n",
       "      <th>6084</th>\n",
       "      <td>Beastmaster 2: Through the Portal of Time</td>\n",
       "      <td>17.0</td>\n",
       "      <td>4.6</td>\n",
       "      <td>1991</td>\n",
       "      <td>27549</td>\n",
       "      <td>3.393960</td>\n",
       "    </tr>\n",
       "    <tr>\n",
       "      <th>8401</th>\n",
       "      <td>Star Trek Into Darkness</td>\n",
       "      <td>4479.0</td>\n",
       "      <td>7.4</td>\n",
       "      <td>2013</td>\n",
       "      <td>54138</td>\n",
       "      <td>3.319184</td>\n",
       "    </tr>\n",
       "    <tr>\n",
       "      <th>8658</th>\n",
       "      <td>X-Men: Days of Future Past</td>\n",
       "      <td>6155.0</td>\n",
       "      <td>7.5</td>\n",
       "      <td>2014</td>\n",
       "      <td>127585</td>\n",
       "      <td>3.306021</td>\n",
       "    </tr>\n",
       "    <tr>\n",
       "      <th>974</th>\n",
       "      <td>Aliens</td>\n",
       "      <td>3282.0</td>\n",
       "      <td>7.7</td>\n",
       "      <td>1986</td>\n",
       "      <td>679</td>\n",
       "      <td>3.290333</td>\n",
       "    </tr>\n",
       "    <tr>\n",
       "      <th>1011</th>\n",
       "      <td>The Terminator</td>\n",
       "      <td>4208.0</td>\n",
       "      <td>7.4</td>\n",
       "      <td>1984</td>\n",
       "      <td>218</td>\n",
       "      <td>3.275382</td>\n",
       "    </tr>\n",
       "    <tr>\n",
       "      <th>987</th>\n",
       "      <td>Alien</td>\n",
       "      <td>4564.0</td>\n",
       "      <td>7.9</td>\n",
       "      <td>1979</td>\n",
       "      <td>348</td>\n",
       "      <td>3.198941</td>\n",
       "    </tr>\n",
       "    <tr>\n",
       "      <th>1668</th>\n",
       "      <td>Return from Witch Mountain</td>\n",
       "      <td>38.0</td>\n",
       "      <td>5.6</td>\n",
       "      <td>1978</td>\n",
       "      <td>14822</td>\n",
       "      <td>3.012842</td>\n",
       "    </tr>\n",
       "    <tr>\n",
       "      <th>3060</th>\n",
       "      <td>Sinbad and the Eye of the Tiger</td>\n",
       "      <td>39.0</td>\n",
       "      <td>6.3</td>\n",
       "      <td>1977</td>\n",
       "      <td>11940</td>\n",
       "      <td>2.996728</td>\n",
       "    </tr>\n",
       "  </tbody>\n",
       "</table>\n",
       "</div>"
      ],
      "text/plain": [
       "                                          title  vote_count  vote_average  \\\n",
       "8712                    Guardians of the Galaxy     10014.0           7.9   \n",
       "1376                                    Titanic      7770.0           7.5   \n",
       "6084  Beastmaster 2: Through the Portal of Time        17.0           4.6   \n",
       "8401                    Star Trek Into Darkness      4479.0           7.4   \n",
       "8658                 X-Men: Days of Future Past      6155.0           7.5   \n",
       "974                                      Aliens      3282.0           7.7   \n",
       "1011                             The Terminator      4208.0           7.4   \n",
       "987                                       Alien      4564.0           7.9   \n",
       "1668                 Return from Witch Mountain        38.0           5.6   \n",
       "3060            Sinbad and the Eye of the Tiger        39.0           6.3   \n",
       "\n",
       "      year      id       est  \n",
       "8712  2014  118340  3.407659  \n",
       "1376  1997     597  3.399113  \n",
       "6084  1991   27549  3.393960  \n",
       "8401  2013   54138  3.319184  \n",
       "8658  2014  127585  3.306021  \n",
       "974   1986     679  3.290333  \n",
       "1011  1984     218  3.275382  \n",
       "987   1979     348  3.198941  \n",
       "1668  1978   14822  3.012842  \n",
       "3060  1977   11940  2.996728  "
      ]
     },
     "execution_count": 68,
     "metadata": {},
     "output_type": "execute_result"
    }
   ],
   "source": [
    "hybrid(500, 'Avatar')"
   ]
  },
  {
   "cell_type": "markdown",
   "id": "identified-library",
   "metadata": {
    "papermill": {
     "duration": 0.080971,
     "end_time": "2022-05-31T01:28:53.457211",
     "exception": false,
     "start_time": "2022-05-31T01:28:53.376240",
     "status": "completed"
    },
    "tags": []
   },
   "source": [
    "우리의 hybrid recommender에 의해, 같은 영화더라도 다른 유저일 경우 다른 추천을 받음을 알 수 있었다. 따라서 우리의 추천 시스템은 좀 더 개인적이고 특정한 유저에게 딱 맞는다."
   ]
  },
  {
   "cell_type": "markdown",
   "id": "tracked-amendment",
   "metadata": {
    "papermill": {
     "duration": 0.081644,
     "end_time": "2022-05-31T01:28:53.620017",
     "exception": false,
     "start_time": "2022-05-31T01:28:53.538373",
     "status": "completed"
    },
    "tags": []
   },
   "source": [
    "### 결론\n",
    "이 노트북에서, 나는 4가지의 다른 아이디어와 알고리즘을 기반으로 한 추천 engine을 만들었다. 다음과 같다 :\n",
    "1. **Simple Recommender** : 이 시스템은 일반적이고, 특별한 장르의 Top Movie Chart를 위해 전반적인 TMDB 투표수와 투표 평균을 이용했다. IMDB 가중치 평가 시스템은 저열ㄹ이 최종적으로 수행된 평가를 계산하는 데 사용되었다.\n",
    "\n",
    "2. **Content Based Recommender** : 우리는 2가지의 content based engine을 개발하였다. 하나는 예측에 영화 overview와 tagline들을 input으로 사용하였고, 다른 것은 metadata로 cast, crew, genre, keyword를 사용하였다. 우리는 또한 더 많은 투표와 더 높은 등급의 영화를 더 선호하도록 간단한 필터를 장치했다.\n",
    "\n",
    "3. **Collaborative Filtering** : 우리는 강력한 Surprise Library를 사용하여 SVD를 기반으로 한 collaborative filter를 개발하였다. RMSE는 1을 넘지 않았고, engine은 주어진 유저와 영화에 대한 추정 등급을 주었다.\n",
    "\n",
    "4. **Hybrid Engine** : content와 collaborative filtering의 아이디어를 모아 유저에 대해 내부적으로 계산한 추정 등급을 기반으로 특정 사용자에게 영화 추천을 제공하는 엔진을 구축하였다."
   ]
  },
  {
   "cell_type": "markdown",
   "id": "ecological-brave",
   "metadata": {
    "papermill": {
     "duration": 0.081027,
     "end_time": "2022-05-31T01:28:53.782075",
     "exception": false,
     "start_time": "2022-05-31T01:28:53.701048",
     "status": "completed"
    },
    "tags": []
   },
   "source": [
    "## ---끝---"
   ]
  },
  {
   "cell_type": "code",
   "execution_count": null,
   "id": "editorial-austin",
   "metadata": {
    "papermill": {
     "duration": 0.080595,
     "end_time": "2022-05-31T01:28:53.943778",
     "exception": false,
     "start_time": "2022-05-31T01:28:53.863183",
     "status": "completed"
    },
    "tags": []
   },
   "outputs": [],
   "source": []
  }
 ],
 "metadata": {
  "kernelspec": {
   "display_name": "Python 3",
   "language": "python",
   "name": "python3"
  },
  "language_info": {
   "codemirror_mode": {
    "name": "ipython",
    "version": 3
   },
   "file_extension": ".py",
   "mimetype": "text/x-python",
   "name": "python",
   "nbconvert_exporter": "python",
   "pygments_lexer": "ipython3",
   "version": "3.7.9"
  },
  "papermill": {
   "default_parameters": {},
   "duration": 192.376841,
   "end_time": "2022-05-31T01:28:55.037157",
   "environment_variables": {},
   "exception": null,
   "input_path": "__notebook__.ipynb",
   "output_path": "__notebook__.ipynb",
   "parameters": {},
   "start_time": "2022-05-31T01:25:42.660316",
   "version": "2.3.2"
  }
 },
 "nbformat": 4,
 "nbformat_minor": 5
}
