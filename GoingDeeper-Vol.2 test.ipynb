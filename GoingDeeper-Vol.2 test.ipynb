{
 "cells": [
  {
   "cell_type": "code",
   "execution_count": 1,
   "id": "27ad3493",
   "metadata": {},
   "outputs": [
    {
     "name": "stdout",
     "output_type": "stream",
     "text": [
      "2.6.0\n",
      "Downloading data from https://storage.googleapis.com/tensorflow/tf-keras-datasets/mnist.npz\n",
      "11493376/11490434 [==============================] - 0s 0us/step\n",
      "11501568/11490434 [==============================] - 0s 0us/step\n",
      "60000\n"
     ]
    }
   ],
   "source": [
    "import tensorflow as tf\n",
    "from tensorflow import keras\n",
    "\n",
    "import numpy as np\n",
    "import matplotlib.pyplot as plt\n",
    "import os\n",
    "\n",
    "\n",
    "print(tf.__version__)   # Tensorflow의 버전을 출력\n",
    "\n",
    "mnist = keras.datasets.mnist\n",
    "\n",
    "# MNIST 데이터를 로드. 다운로드하지 않았다면 다운로드까지 자동으로 진행됩니다. \n",
    "(x_train, y_train), (x_test, y_test) = mnist.load_data()   \n",
    "\n",
    "print(len(x_train))  # x_train 배열의 크기를 출력"
   ]
  },
  {
   "cell_type": "code",
   "execution_count": null,
   "id": "64b46686",
   "metadata": {},
   "outputs": [],
   "source": []
  },
  {
   "cell_type": "markdown",
   "id": "66c38cd2",
   "metadata": {},
   "source": [
    "# GoingDeeper-Vol.2"
   ]
  },
  {
   "cell_type": "markdown",
   "id": "3b2f7c67",
   "metadata": {},
   "source": [
    "## 2-6. Ablation Study 실습 (4) VGG-16 vs VGG-19"
   ]
  },
  {
   "cell_type": "markdown",
   "id": "a97396b1",
   "metadata": {},
   "source": [
    "### VGG-16 모델을 만들고 훈련"
   ]
  },
  {
   "cell_type": "code",
   "execution_count": 14,
   "id": "9892c035",
   "metadata": {},
   "outputs": [],
   "source": [
    "# TensorFlow and tf.keras\n",
    "import tensorflow as tf\n",
    "from tensorflow import keras\n",
    "\n",
    "# Helper libraries\n",
    "import numpy as np\n",
    "import matplotlib.pyplot as plt\n",
    "\n",
    "import tensorflow_datasets as tfds"
   ]
  },
  {
   "cell_type": "code",
   "execution_count": 25,
   "id": "e8599a21",
   "metadata": {},
   "outputs": [],
   "source": [
    "import urllib3\n",
    "urllib3.disable_warnings()\n",
    "\n",
    "#tfds.disable_progress_bar()   # 이 주석을 풀면 데이터셋 다운로드과정의 프로그레스바가 나타나지 않습니다.\n",
    "\n",
    "(ds_train, ds_test), ds_info = tfds.load(\n",
    "    'cifar10',\n",
    "    split=['train', 'test'],\n",
    "    shuffle_files=True,\n",
    "    with_info=True,\n",
    ")"
   ]
  },
  {
   "cell_type": "markdown",
   "id": "cf41ba99",
   "metadata": {},
   "source": [
    "###  정규화(normalize)"
   ]
  },
  {
   "cell_type": "code",
   "execution_count": 29,
   "id": "fa2d9169",
   "metadata": {},
   "outputs": [],
   "source": [
    "def normalize_and_resize_img(image, label):\n",
    "    \"\"\"Normalizes images: `uint8` -> `float32`.\"\"\"\n",
    "    # image = tf.image.resize(image, [32, 32])\n",
    "    return tf.cast(image, tf.float32) / 255., label"
   ]
  },
  {
   "cell_type": "code",
   "execution_count": 33,
   "id": "520ecb17",
   "metadata": {},
   "outputs": [],
   "source": [
    "def apply_normalize_on_dataset(ds, is_test=False, batch_size=16):\n",
    "    ds = ds.map(\n",
    "        normalize_and_resize_img, \n",
    "        num_parallel_calls=1\n",
    "    )\n",
    "    ds = ds.batch(batch_size)\n",
    "    if not is_test:\n",
    "        ds = ds.repeat()\n",
    "        ds = ds.shuffle(200)\n",
    "    ds = ds.prefetch(tf.data.experimental.AUTOTUNE)\n",
    "    return ds"
   ]
  },
  {
   "cell_type": "code",
   "execution_count": null,
   "id": "8bd9a678",
   "metadata": {},
   "outputs": [],
   "source": []
  },
  {
   "cell_type": "code",
   "execution_count": 15,
   "id": "9af88f3b",
   "metadata": {},
   "outputs": [],
   "source": [
    "# function for building VGG Block\n",
    "\n",
    "def build_vgg_block(input_layer,\n",
    "                    num_cnn=3, \n",
    "                    channel=64,\n",
    "                    block_num=1,\n",
    "                   ):\n",
    "    # 입력 레이어\n",
    "    x = input_layer\n",
    "\n",
    "    # CNN 레이어\n",
    "    for cnn_num in range(num_cnn):\n",
    "        x = keras.layers.Conv2D(\n",
    "            filters=channel,\n",
    "            kernel_size=(3,3),\n",
    "            activation='relu',\n",
    "            kernel_initializer='he_normal',\n",
    "            padding='same',\n",
    "            name=f'block{block_num}_conv{cnn_num}'\n",
    "        )(x)    \n",
    "\n",
    "    # Max Pooling 레이어\n",
    "    x = keras.layers.MaxPooling2D(\n",
    "        pool_size=(2, 2),\n",
    "        strides=2,\n",
    "        name=f'block{block_num}_pooling'\n",
    "    )(x)\n",
    "\n",
    "    return x"
   ]
  },
  {
   "cell_type": "code",
   "execution_count": 16,
   "id": "78ae8ee3",
   "metadata": {},
   "outputs": [],
   "source": [
    "vgg_input_layer = keras.layers.Input(shape=(32,32,3))   # 입력 레이어 생성\n",
    "vgg_block_output = build_vgg_block(vgg_input_layer)    # VGG 블록 생성"
   ]
  },
  {
   "cell_type": "code",
   "execution_count": 17,
   "id": "bd2541bb",
   "metadata": {},
   "outputs": [
    {
     "name": "stdout",
     "output_type": "stream",
     "text": [
      "Model: \"model\"\n",
      "_________________________________________________________________\n",
      "Layer (type)                 Output Shape              Param #   \n",
      "=================================================================\n",
      "input_1 (InputLayer)         [(None, 32, 32, 3)]       0         \n",
      "_________________________________________________________________\n",
      "block1_conv0 (Conv2D)        (None, 32, 32, 64)        1792      \n",
      "_________________________________________________________________\n",
      "block1_conv1 (Conv2D)        (None, 32, 32, 64)        36928     \n",
      "_________________________________________________________________\n",
      "block1_conv2 (Conv2D)        (None, 32, 32, 64)        36928     \n",
      "_________________________________________________________________\n",
      "block1_pooling (MaxPooling2D (None, 16, 16, 64)        0         \n",
      "=================================================================\n",
      "Total params: 75,648\n",
      "Trainable params: 75,648\n",
      "Non-trainable params: 0\n",
      "_________________________________________________________________\n"
     ]
    }
   ],
   "source": [
    "# 블록 1개짜리 model 생성\n",
    "model = keras.Model(inputs=vgg_input_layer, outputs=vgg_block_output)  \n",
    "\n",
    "model.summary()"
   ]
  },
  {
   "cell_type": "code",
   "execution_count": 18,
   "id": "0e338039",
   "metadata": {},
   "outputs": [],
   "source": [
    "# VGG 모델 자체를 생성하는 함수입니다.\n",
    "def build_vgg(input_shape=(32,32,3),\n",
    "              num_cnn_list=[2,2,3,3,3],\n",
    "              channel_list=[64,128,256,512,512],\n",
    "              num_classes=10):\n",
    "    \n",
    "    assert len(num_cnn_list) == len(channel_list) #모델을 만들기 전에 config list들이 같은 길이인지 확인합니다.\n",
    "    \n",
    "    input_layer = keras.layers.Input(shape=input_shape)  # input layer를 만들어둡니다.\n",
    "    output = input_layer\n",
    "    \n",
    "    # config list들의 길이만큼 반복해서 블록을 생성합니다.\n",
    "    for i, (num_cnn, channel) in enumerate(zip(num_cnn_list, channel_list)):\n",
    "        output = build_vgg_block(\n",
    "            output,\n",
    "            num_cnn=num_cnn, \n",
    "            channel=channel,\n",
    "            block_num=i\n",
    "        )\n",
    "        \n",
    "    output = keras.layers.Flatten(name='flatten')(output)\n",
    "    output = keras.layers.Dense(4096, activation='relu', name='fc1')(output)\n",
    "    output = keras.layers.Dense(4096, activation='relu', name='fc2')(output)\n",
    "    output = keras.layers.Dense(num_classes, activation='softmax', name='predictions')(output)\n",
    "    \n",
    "    model = keras.Model(\n",
    "        inputs=input_layer, \n",
    "        outputs=output\n",
    "    )\n",
    "    return model"
   ]
  },
  {
   "cell_type": "code",
   "execution_count": 19,
   "id": "04695902",
   "metadata": {},
   "outputs": [
    {
     "name": "stdout",
     "output_type": "stream",
     "text": [
      "Model: \"model_1\"\n",
      "_________________________________________________________________\n",
      "Layer (type)                 Output Shape              Param #   \n",
      "=================================================================\n",
      "input_2 (InputLayer)         [(None, 32, 32, 3)]       0         \n",
      "_________________________________________________________________\n",
      "block0_conv0 (Conv2D)        (None, 32, 32, 64)        1792      \n",
      "_________________________________________________________________\n",
      "block0_conv1 (Conv2D)        (None, 32, 32, 64)        36928     \n",
      "_________________________________________________________________\n",
      "block0_pooling (MaxPooling2D (None, 16, 16, 64)        0         \n",
      "_________________________________________________________________\n",
      "block1_conv0 (Conv2D)        (None, 16, 16, 128)       73856     \n",
      "_________________________________________________________________\n",
      "block1_conv1 (Conv2D)        (None, 16, 16, 128)       147584    \n",
      "_________________________________________________________________\n",
      "block1_pooling (MaxPooling2D (None, 8, 8, 128)         0         \n",
      "_________________________________________________________________\n",
      "block2_conv0 (Conv2D)        (None, 8, 8, 256)         295168    \n",
      "_________________________________________________________________\n",
      "block2_conv1 (Conv2D)        (None, 8, 8, 256)         590080    \n",
      "_________________________________________________________________\n",
      "block2_conv2 (Conv2D)        (None, 8, 8, 256)         590080    \n",
      "_________________________________________________________________\n",
      "block2_pooling (MaxPooling2D (None, 4, 4, 256)         0         \n",
      "_________________________________________________________________\n",
      "block3_conv0 (Conv2D)        (None, 4, 4, 512)         1180160   \n",
      "_________________________________________________________________\n",
      "block3_conv1 (Conv2D)        (None, 4, 4, 512)         2359808   \n",
      "_________________________________________________________________\n",
      "block3_conv2 (Conv2D)        (None, 4, 4, 512)         2359808   \n",
      "_________________________________________________________________\n",
      "block3_pooling (MaxPooling2D (None, 2, 2, 512)         0         \n",
      "_________________________________________________________________\n",
      "block4_conv0 (Conv2D)        (None, 2, 2, 512)         2359808   \n",
      "_________________________________________________________________\n",
      "block4_conv1 (Conv2D)        (None, 2, 2, 512)         2359808   \n",
      "_________________________________________________________________\n",
      "block4_conv2 (Conv2D)        (None, 2, 2, 512)         2359808   \n",
      "_________________________________________________________________\n",
      "block4_pooling (MaxPooling2D (None, 1, 1, 512)         0         \n",
      "_________________________________________________________________\n",
      "flatten (Flatten)            (None, 512)               0         \n",
      "_________________________________________________________________\n",
      "fc1 (Dense)                  (None, 4096)              2101248   \n",
      "_________________________________________________________________\n",
      "fc2 (Dense)                  (None, 4096)              16781312  \n",
      "_________________________________________________________________\n",
      "predictions (Dense)          (None, 10)                40970     \n",
      "=================================================================\n",
      "Total params: 33,638,218\n",
      "Trainable params: 33,638,218\n",
      "Non-trainable params: 0\n",
      "_________________________________________________________________\n"
     ]
    }
   ],
   "source": [
    "# 기본값을 그대로 사용해서 VGG 모델을 만들면 VGG-16이 됩니다.\n",
    "vgg_16 = build_vgg()\n",
    "\n",
    "vgg_16.summary()"
   ]
  },
  {
   "cell_type": "code",
   "execution_count": 37,
   "id": "3398dd23",
   "metadata": {},
   "outputs": [
    {
     "name": "stdout",
     "output_type": "stream",
     "text": [
      "Model: \"model_2\"\n",
      "_________________________________________________________________\n",
      "Layer (type)                 Output Shape              Param #   \n",
      "=================================================================\n",
      "input_3 (InputLayer)         [(None, 32, 32, 3)]       0         \n",
      "_________________________________________________________________\n",
      "block0_conv0 (Conv2D)        (None, 32, 32, 64)        1792      \n",
      "_________________________________________________________________\n",
      "block0_conv1 (Conv2D)        (None, 32, 32, 64)        36928     \n",
      "_________________________________________________________________\n",
      "block0_pooling (MaxPooling2D (None, 16, 16, 64)        0         \n",
      "_________________________________________________________________\n",
      "block1_conv0 (Conv2D)        (None, 16, 16, 128)       73856     \n",
      "_________________________________________________________________\n",
      "block1_conv1 (Conv2D)        (None, 16, 16, 128)       147584    \n",
      "_________________________________________________________________\n",
      "block1_pooling (MaxPooling2D (None, 8, 8, 128)         0         \n",
      "_________________________________________________________________\n",
      "block2_conv0 (Conv2D)        (None, 8, 8, 256)         295168    \n",
      "_________________________________________________________________\n",
      "block2_conv1 (Conv2D)        (None, 8, 8, 256)         590080    \n",
      "_________________________________________________________________\n",
      "block2_conv2 (Conv2D)        (None, 8, 8, 256)         590080    \n",
      "_________________________________________________________________\n",
      "block2_conv3 (Conv2D)        (None, 8, 8, 256)         590080    \n",
      "_________________________________________________________________\n",
      "block2_pooling (MaxPooling2D (None, 4, 4, 256)         0         \n",
      "_________________________________________________________________\n",
      "block3_conv0 (Conv2D)        (None, 4, 4, 512)         1180160   \n",
      "_________________________________________________________________\n",
      "block3_conv1 (Conv2D)        (None, 4, 4, 512)         2359808   \n",
      "_________________________________________________________________\n",
      "block3_conv2 (Conv2D)        (None, 4, 4, 512)         2359808   \n",
      "_________________________________________________________________\n",
      "block3_conv3 (Conv2D)        (None, 4, 4, 512)         2359808   \n",
      "_________________________________________________________________\n",
      "block3_pooling (MaxPooling2D (None, 2, 2, 512)         0         \n",
      "_________________________________________________________________\n",
      "block4_conv0 (Conv2D)        (None, 2, 2, 512)         2359808   \n",
      "_________________________________________________________________\n",
      "block4_conv1 (Conv2D)        (None, 2, 2, 512)         2359808   \n",
      "_________________________________________________________________\n",
      "block4_conv2 (Conv2D)        (None, 2, 2, 512)         2359808   \n",
      "_________________________________________________________________\n",
      "block4_conv3 (Conv2D)        (None, 2, 2, 512)         2359808   \n",
      "_________________________________________________________________\n",
      "block4_pooling (MaxPooling2D (None, 1, 1, 512)         0         \n",
      "_________________________________________________________________\n",
      "flatten (Flatten)            (None, 512)               0         \n",
      "_________________________________________________________________\n",
      "fc1 (Dense)                  (None, 4096)              2101248   \n",
      "_________________________________________________________________\n",
      "fc2 (Dense)                  (None, 4096)              16781312  \n",
      "_________________________________________________________________\n",
      "predictions (Dense)          (None, 10)                40970     \n",
      "=================================================================\n",
      "Total params: 38,947,914\n",
      "Trainable params: 38,947,914\n",
      "Non-trainable params: 0\n",
      "_________________________________________________________________\n"
     ]
    }
   ],
   "source": [
    "# 원하는 블록의 설계에 따라 매개변수로 리스트를 전달해 줍니다.\n",
    "vgg_19 = build_vgg(\n",
    "    num_cnn_list=[2,2,4,4,4],\n",
    "    channel_list=[64,128,256,512,512]\n",
    ")\n",
    "\n",
    "vgg_19.summary()"
   ]
  },
  {
   "cell_type": "code",
   "execution_count": 20,
   "id": "0aab35d5",
   "metadata": {},
   "outputs": [],
   "source": [
    "BATCH_SIZE = 256\n",
    "EPOCH = 15"
   ]
  },
  {
   "cell_type": "code",
   "execution_count": 34,
   "id": "ebc2a607",
   "metadata": {},
   "outputs": [],
   "source": [
    "(ds_train, ds_test), ds_info = tfds.load(\n",
    "    'cifar10',\n",
    "    split=['train', 'test'],\n",
    "    as_supervised=True,\n",
    "    shuffle_files=True,\n",
    "    with_info=True,\n",
    ")\n",
    "ds_train = apply_normalize_on_dataset(ds_train, batch_size=BATCH_SIZE)\n",
    "ds_test = apply_normalize_on_dataset(ds_test, batch_size=BATCH_SIZE)"
   ]
  },
  {
   "cell_type": "code",
   "execution_count": 35,
   "id": "5c675fcf",
   "metadata": {},
   "outputs": [
    {
     "name": "stdout",
     "output_type": "stream",
     "text": [
      "Epoch 1/15\n",
      "195/195 [==============================] - 37s 128ms/step - loss: 2.1653 - accuracy: 0.1991 - val_loss: 2.0451 - val_accuracy: 0.2578\n",
      "Epoch 2/15\n",
      "195/195 [==============================] - 23s 119ms/step - loss: 1.9830 - accuracy: 0.2803 - val_loss: 1.9034 - val_accuracy: 0.3216\n",
      "Epoch 3/15\n",
      "195/195 [==============================] - 23s 120ms/step - loss: 1.8585 - accuracy: 0.3329 - val_loss: 1.8005 - val_accuracy: 0.3638\n",
      "Epoch 4/15\n",
      "195/195 [==============================] - 23s 118ms/step - loss: 1.7451 - accuracy: 0.3730 - val_loss: 1.7009 - val_accuracy: 0.3780\n",
      "Epoch 5/15\n",
      "195/195 [==============================] - 23s 117ms/step - loss: 1.6656 - accuracy: 0.3990 - val_loss: 1.5897 - val_accuracy: 0.4156\n",
      "Epoch 6/15\n",
      "195/195 [==============================] - 23s 118ms/step - loss: 1.6018 - accuracy: 0.4230 - val_loss: 1.5732 - val_accuracy: 0.4310\n",
      "Epoch 7/15\n",
      "195/195 [==============================] - 23s 118ms/step - loss: 1.5495 - accuracy: 0.4409 - val_loss: 1.5449 - val_accuracy: 0.4464\n",
      "Epoch 8/15\n",
      "195/195 [==============================] - 23s 118ms/step - loss: 1.5006 - accuracy: 0.4572 - val_loss: 1.4613 - val_accuracy: 0.4821\n",
      "Epoch 9/15\n",
      "195/195 [==============================] - 23s 118ms/step - loss: 1.4635 - accuracy: 0.4751 - val_loss: 1.4499 - val_accuracy: 0.4801\n",
      "Epoch 10/15\n",
      "195/195 [==============================] - 23s 118ms/step - loss: 1.4189 - accuracy: 0.4909 - val_loss: 1.4002 - val_accuracy: 0.5037\n",
      "Epoch 11/15\n",
      "195/195 [==============================] - 23s 118ms/step - loss: 1.3852 - accuracy: 0.5019 - val_loss: 1.3791 - val_accuracy: 0.5095\n",
      "Epoch 12/15\n",
      "195/195 [==============================] - 23s 118ms/step - loss: 1.3475 - accuracy: 0.5177 - val_loss: 1.3774 - val_accuracy: 0.5045\n",
      "Epoch 13/15\n",
      "195/195 [==============================] - 23s 118ms/step - loss: 1.3168 - accuracy: 0.5290 - val_loss: 1.3223 - val_accuracy: 0.5321\n",
      "Epoch 14/15\n",
      "195/195 [==============================] - 23s 119ms/step - loss: 1.2832 - accuracy: 0.5404 - val_loss: 1.2953 - val_accuracy: 0.5337\n",
      "Epoch 15/15\n",
      "195/195 [==============================] - 23s 118ms/step - loss: 1.2544 - accuracy: 0.5513 - val_loss: 1.3033 - val_accuracy: 0.5300\n"
     ]
    }
   ],
   "source": [
    "vgg_16.compile(\n",
    "    loss='sparse_categorical_crossentropy',\n",
    "    optimizer=tf.keras.optimizers.SGD(lr=0.01, clipnorm=1.),\n",
    "    metrics=['accuracy'],\n",
    ")\n",
    "\n",
    "history_16 = vgg_16.fit(\n",
    "    ds_train,\n",
    "    steps_per_epoch=int(ds_info.splits['train'].num_examples/BATCH_SIZE),\n",
    "    validation_steps=int(ds_info.splits['test'].num_examples/BATCH_SIZE),\n",
    "    epochs=EPOCH,\n",
    "    validation_data=ds_test,\n",
    "    verbose=1,\n",
    "    use_multiprocessing=True,\n",
    ")"
   ]
  },
  {
   "cell_type": "markdown",
   "id": "f2524840",
   "metadata": {},
   "source": [
    "### *기존 학습치_2nd(비교)"
   ]
  },
  {
   "cell_type": "code",
   "execution_count": 23,
   "id": "b9a63816",
   "metadata": {},
   "outputs": [
    {
     "ename": "SyntaxError",
     "evalue": "invalid syntax (1269331340.py, line 1)",
     "output_type": "error",
     "traceback": [
      "\u001b[0;36m  File \u001b[0;32m\"/tmp/ipykernel_728/1269331340.py\"\u001b[0;36m, line \u001b[0;32m1\u001b[0m\n\u001b[0;31m    opt/conda/lib/python3.9/site-packages/keras/optimizer_v2/optimizer_v2.py:355:(UserWarning:, The, `lr`, argument, is, deprecated,, use, `learning_rate`, instead.)\u001b[0m\n\u001b[0m                         ^\u001b[0m\n\u001b[0;31mSyntaxError\u001b[0m\u001b[0;31m:\u001b[0m invalid syntax\n"
     ]
    }
   ],
   "source": [
    "/opt/conda/lib/python3.9/site-packages/keras/optimizer_v2/optimizer_v2.py:355: UserWarning: The `lr` argument is deprecated, use `learning_rate` instead.\n",
    "  warnings.warn(\n",
    "Epoch 1/15\n",
    "195/195 [==============================] - 67s 125ms/step - loss: 2.1811 - accuracy: 0.1958 - val_loss: 2.0539 - val_accuracy: 0.2650\n",
    "Epoch 2/15\n",
    "195/195 [==============================] - 24s 126ms/step - loss: 1.9794 - accuracy: 0.2834 - val_loss: 1.8958 - val_accuracy: 0.3190\n",
    "Epoch 3/15\n",
    "195/195 [==============================] - 23s 120ms/step - loss: 1.8466 - accuracy: 0.3387 - val_loss: 1.8524 - val_accuracy: 0.3240\n",
    "Epoch 4/15\n",
    "195/195 [==============================] - 23s 120ms/step - loss: 1.7601 - accuracy: 0.3704 - val_loss: 1.6863 - val_accuracy: 0.4029\n",
    "Epoch 5/15\n",
    "195/195 [==============================] - 23s 119ms/step - loss: 1.6730 - accuracy: 0.4008 - val_loss: 1.6496 - val_accuracy: 0.4088\n",
    "Epoch 6/15\n",
    "195/195 [==============================] - 23s 119ms/step - loss: 1.6094 - accuracy: 0.4218 - val_loss: 1.5820 - val_accuracy: 0.4368\n",
    "Epoch 7/15\n",
    "195/195 [==============================] - 23s 120ms/step - loss: 1.5611 - accuracy: 0.4420 - val_loss: 1.5577 - val_accuracy: 0.4370\n",
    "Epoch 8/15\n",
    "195/195 [==============================] - 23s 119ms/step - loss: 1.5163 - accuracy: 0.4573 - val_loss: 1.4865 - val_accuracy: 0.4660\n",
    "Epoch 9/15\n",
    "195/195 [==============================] - 23s 120ms/step - loss: 1.4726 - accuracy: 0.4737 - val_loss: 1.4392 - val_accuracy: 0.4954\n",
    "Epoch 10/15\n",
    "195/195 [==============================] - 23s 119ms/step - loss: 1.4345 - accuracy: 0.4868 - val_loss: 1.3987 - val_accuracy: 0.5005\n",
    "Epoch 11/15\n",
    "195/195 [==============================] - 23s 119ms/step - loss: 1.3917 - accuracy: 0.5009 - val_loss: 1.4323 - val_accuracy: 0.4903\n",
    "Epoch 12/15\n",
    "195/195 [==============================] - 23s 119ms/step - loss: 1.3536 - accuracy: 0.5170 - val_loss: 1.3758 - val_accuracy: 0.5080\n",
    "Epoch 13/15\n",
    "195/195 [==============================] - 23s 119ms/step - loss: 1.3173 - accuracy: 0.5281 - val_loss: 1.3259 - val_accuracy: 0.5344\n",
    "Epoch 14/15\n",
    "195/195 [==============================] - 23s 119ms/step - loss: 1.2888 - accuracy: 0.5409 - val_loss: 1.3055 - val_accuracy: 0.5309\n",
    "Epoch 15/15\n",
    "195/195 [==============================] - 23s 120ms/step - loss: 1.2487 - accuracy: 0.5549 - val_loss: 1.3063 - val_accuracy: 0.5213"
   ]
  },
  {
   "cell_type": "markdown",
   "id": "69511224",
   "metadata": {},
   "source": [
    "### VGG-19 모델을 만들고 훈련"
   ]
  },
  {
   "cell_type": "code",
   "execution_count": 38,
   "id": "b0439960",
   "metadata": {},
   "outputs": [
    {
     "name": "stdout",
     "output_type": "stream",
     "text": [
      "Epoch 1/15\n",
      "195/195 [==============================] - 31s 136ms/step - loss: 2.2480 - accuracy: 0.1512 - val_loss: 2.1663 - val_accuracy: 0.1954\n",
      "Epoch 2/15\n",
      "195/195 [==============================] - 27s 138ms/step - loss: 2.0662 - accuracy: 0.2376 - val_loss: 1.9965 - val_accuracy: 0.2703\n",
      "Epoch 3/15\n",
      "195/195 [==============================] - 27s 140ms/step - loss: 1.9314 - accuracy: 0.2952 - val_loss: 1.8561 - val_accuracy: 0.3210\n",
      "Epoch 4/15\n",
      "195/195 [==============================] - 27s 138ms/step - loss: 1.8173 - accuracy: 0.3395 - val_loss: 1.7287 - val_accuracy: 0.3897\n",
      "Epoch 5/15\n",
      "195/195 [==============================] - 27s 139ms/step - loss: 1.7026 - accuracy: 0.3819 - val_loss: 1.6636 - val_accuracy: 0.3935\n",
      "Epoch 6/15\n",
      "195/195 [==============================] - 27s 139ms/step - loss: 1.6383 - accuracy: 0.4073 - val_loss: 1.5960 - val_accuracy: 0.4301\n",
      "Epoch 7/15\n",
      "195/195 [==============================] - 27s 138ms/step - loss: 1.5803 - accuracy: 0.4272 - val_loss: 1.5217 - val_accuracy: 0.4548\n",
      "Epoch 8/15\n",
      "195/195 [==============================] - 27s 139ms/step - loss: 1.5265 - accuracy: 0.4450 - val_loss: 1.5032 - val_accuracy: 0.4694\n",
      "Epoch 9/15\n",
      "195/195 [==============================] - 27s 139ms/step - loss: 1.4822 - accuracy: 0.4651 - val_loss: 1.4830 - val_accuracy: 0.4578\n",
      "Epoch 10/15\n",
      "195/195 [==============================] - 27s 138ms/step - loss: 1.4438 - accuracy: 0.4770 - val_loss: 1.4030 - val_accuracy: 0.4896\n",
      "Epoch 11/15\n",
      "195/195 [==============================] - 27s 139ms/step - loss: 1.3907 - accuracy: 0.4996 - val_loss: 1.4068 - val_accuracy: 0.4832\n",
      "Epoch 12/15\n",
      "195/195 [==============================] - 27s 139ms/step - loss: 1.3636 - accuracy: 0.5088 - val_loss: 1.3309 - val_accuracy: 0.5216\n",
      "Epoch 13/15\n",
      "195/195 [==============================] - 27s 139ms/step - loss: 1.3194 - accuracy: 0.5239 - val_loss: 1.3464 - val_accuracy: 0.5106\n",
      "Epoch 14/15\n",
      "195/195 [==============================] - 27s 139ms/step - loss: 1.2743 - accuracy: 0.5449 - val_loss: 1.2517 - val_accuracy: 0.5575\n",
      "Epoch 15/15\n",
      "195/195 [==============================] - 27s 138ms/step - loss: 1.2508 - accuracy: 0.5530 - val_loss: 1.2450 - val_accuracy: 0.5558\n"
     ]
    }
   ],
   "source": [
    "vgg_19.compile(\n",
    "    loss='sparse_categorical_crossentropy',\n",
    "    optimizer=tf.keras.optimizers.SGD(lr=0.01, clipnorm=1.),\n",
    "    metrics=['accuracy'],\n",
    ")\n",
    "\n",
    "history_19 = vgg_19.fit(\n",
    "    ds_train,\n",
    "    steps_per_epoch=int(ds_info.splits['train'].num_examples/BATCH_SIZE),\n",
    "    validation_steps=int(ds_info.splits['test'].num_examples/BATCH_SIZE),\n",
    "    epochs=EPOCH,\n",
    "    validation_data=ds_test,\n",
    "    verbose=1,\n",
    "    use_multiprocessing=True,\n",
    ")"
   ]
  },
  {
   "cell_type": "markdown",
   "id": "6feb0363",
   "metadata": {},
   "source": [
    "### *기존 학습치_2nd(비교)"
   ]
  },
  {
   "cell_type": "code",
   "execution_count": null,
   "id": "f7ddac05",
   "metadata": {},
   "outputs": [],
   "source": [
    "/opt/conda/lib/python3.9/site-packages/keras/optimizer_v2/optimizer_v2.py:355: UserWarning: The `lr` argument is deprecated, use `learning_rate` instead.\n",
    "  warnings.warn(\n",
    "Epoch 1/15\n",
    "195/195 [==============================] - 32s 139ms/step - loss: 2.2252 - accuracy: 0.1680 - val_loss: 2.1379 - val_accuracy: 0.2101\n",
    "Epoch 2/15\n",
    "195/195 [==============================] - 27s 141ms/step - loss: 2.0489 - accuracy: 0.2524 - val_loss: 1.9553 - val_accuracy: 0.2772\n",
    "Epoch 3/15\n",
    "195/195 [==============================] - 27s 141ms/step - loss: 1.8997 - accuracy: 0.3101 - val_loss: 1.8418 - val_accuracy: 0.3357\n",
    "Epoch 4/15\n",
    "195/195 [==============================] - 27s 140ms/step - loss: 1.7771 - accuracy: 0.3565 - val_loss: 1.7453 - val_accuracy: 0.3849\n",
    "Epoch 5/15\n",
    "195/195 [==============================] - 27s 140ms/step - loss: 1.6872 - accuracy: 0.3900 - val_loss: 1.6294 - val_accuracy: 0.4229\n",
    "Epoch 6/15\n",
    "195/195 [==============================] - 27s 140ms/step - loss: 1.6189 - accuracy: 0.4133 - val_loss: 1.5954 - val_accuracy: 0.4242\n",
    "Epoch 7/15\n",
    "195/195 [==============================] - 27s 141ms/step - loss: 1.5608 - accuracy: 0.4408 - val_loss: 1.5117 - val_accuracy: 0.4650\n",
    "Epoch 8/15\n",
    "195/195 [==============================] - 27s 140ms/step - loss: 1.5211 - accuracy: 0.4524 - val_loss: 1.5181 - val_accuracy: 0.4540\n",
    "Epoch 9/15\n",
    "195/195 [==============================] - 27s 140ms/step - loss: 1.4704 - accuracy: 0.4710 - val_loss: 1.4213 - val_accuracy: 0.4923\n",
    "Epoch 10/15\n",
    "195/195 [==============================] - 27s 141ms/step - loss: 1.4281 - accuracy: 0.4860 - val_loss: 1.3703 - val_accuracy: 0.5011\n",
    "Epoch 11/15\n",
    "195/195 [==============================] - 27s 140ms/step - loss: 1.3849 - accuracy: 0.5019 - val_loss: 1.3926 - val_accuracy: 0.5043\n",
    "Epoch 12/15\n",
    "195/195 [==============================] - 27s 140ms/step - loss: 1.3433 - accuracy: 0.5171 - val_loss: 1.3303 - val_accuracy: 0.5185\n",
    "Epoch 13/15\n",
    "195/195 [==============================] - 27s 141ms/step - loss: 1.3121 - accuracy: 0.5275 - val_loss: 1.3638 - val_accuracy: 0.5038\n",
    "Epoch 14/15\n",
    "195/195 [==============================] - 27s 140ms/step - loss: 1.2813 - accuracy: 0.5399 - val_loss: 1.2964 - val_accuracy: 0.5397\n",
    "Epoch 15/15\n",
    "195/195 [==============================] - 27s 140ms/step - loss: 1.2400 - accuracy: 0.5577 - val_loss: 1.2675 - val_accuracy: 0.5424"
   ]
  },
  {
   "cell_type": "markdown",
   "id": "bd9aa6e7",
   "metadata": {},
   "source": [
    "### 훈련 손실(training loss)"
   ]
  },
  {
   "cell_type": "code",
   "execution_count": null,
   "id": "cc729431",
   "metadata": {},
   "outputs": [],
   "source": [
    "import matplotlib.pyplot as plt\n",
    "\n",
    "plt.plot(history_16.history['loss'], 'r')\n",
    "plt.plot(history_19.history['loss'], 'b')\n",
    "plt.title('Model training loss')\n",
    "plt.ylabel('Loss')\n",
    "plt.xlabel('Epoch')\n",
    "plt.legend(['vgg_16', 'vgg_19'], loc='upper left')\n",
    "plt.show()"
   ]
  },
  {
   "attachments": {
    "%EB%8B%A4%EC%9A%B4%EB%A1%9C%EB%93%9C.png": {
     "image/png": "[encoded data removed]"
    }
   },
   "cell_type": "markdown",
   "id": "2be8c7df",
   "metadata": {},
   "source": [
    "![%EB%8B%A4%EC%9A%B4%EB%A1%9C%EB%93%9C.png](attachment:%EB%8B%A4%EC%9A%B4%EB%A1%9C%EB%93%9C.png)"
   ]
  },
  {
   "cell_type": "markdown",
   "id": "5e30630b",
   "metadata": {},
   "source": [
    "### 검증 정확도(validation accuracy)"
   ]
  },
  {
   "cell_type": "code",
   "execution_count": null,
   "id": "2c9fa1ba",
   "metadata": {},
   "outputs": [],
   "source": [
    "plt.plot(history_16.history['val_accuracy'], 'r')\n",
    "plt.plot(history_19.history['val_accuracy'], 'b')\n",
    "plt.title('Model validation accuracy')\n",
    "plt.ylabel('Accuracy')\n",
    "plt.xlabel('Epoch')\n",
    "plt.legend(['vgg_16', 'vgg_19'], loc='upper left')\n",
    "plt.show()"
   ]
  },
  {
   "attachments": {
    "%EB%8B%A4%EC%9A%B4%EB%A1%9C%EB%93%9C%20%281%29.png": {
     "image/png": "[encoded data removed]"
    }
   },
   "cell_type": "markdown",
   "id": "f61e325b",
   "metadata": {},
   "source": [
    "![%EB%8B%A4%EC%9A%B4%EB%A1%9C%EB%93%9C%20%281%29.png](attachment:%EB%8B%A4%EC%9A%B4%EB%A1%9C%EB%93%9C%20%281%29.png)"
   ]
  }
 ],
 "metadata": {
  "kernelspec": {
   "display_name": "Python 3 (ipykernel)",
   "language": "python",
   "name": "python3"
  },
  "language_info": {
   "codemirror_mode": {
    "name": "ipython",
    "version": 3
   },
   "file_extension": ".py",
   "mimetype": "text/x-python",
   "name": "python",
   "nbconvert_exporter": "python",
   "pygments_lexer": "ipython3",
   "version": "3.9.7"
  }
 },
 "nbformat": 4,
 "nbformat_minor": 5
}
